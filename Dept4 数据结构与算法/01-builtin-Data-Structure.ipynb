{
 "cells": [
  {
   "cell_type": "markdown",
   "metadata": {},
   "source": [
    "## 5.1 Python内置数据结构简介\n",
    "\n",
    "第08课：常用数据结构之列表  >> 8-12课\n",
    "https://github.com/jackfrued/Python-Core-50-Courses/blob/master/%E7%AC%AC08%E8%AF%BE%EF%BC%9A%E5%B8%B8%E7%94%A8%E6%95%B0%E6%8D%AE%E7%BB%93%E6%9E%84%E4%B9%8B%E5%88%97%E8%A1%A8.md\n",
    "\n",
    "我记得我在学习C语言的时候，还没有听过有内置数据结构这个说法。现在，来看看Python为什么要有内置数据结构？\n",
    "\n",
    "- 内置数据结构消除了程序员需要从头开始实现基本数据结构的需要。通过内置数据结构，开发人员可以直接使用这些数据结构来存储和操作数据，而无需编写额外的代码。\n",
    "- Python内置数据结构的设计和实现是经过精心考虑的，遵循了Python语言的设计原则和惯例。这使得不同的Python程序员能够在各种项目中使用相同的数据结构，并且可以轻松地理解和协作。\n",
    "- Python的内置数据结构通常提供了丰富的API和功能，使得开发人员能够方便地对数据进行操作、查询和修改，同时也支持一些高级功能，如迭代、切片、排序等。\n",
    "\n",
    "如果要聊数据结构的话，在Python、C、C++中都会遇到的数据结构有：\n",
    "- 数组 (Array):Python：Python中的列表（List）类似于数组，它是一种有序的、可变长度的序列，可以存储任意类型的元素。   C/C++：C和C++中的数组是一种固定长度的数据结构，存储相同类型的元素。\n",
    "- 链表 (Linked List):Python：在Python中，链表可以通过自定义类来实现，每个节点包含一个值和一个指向下一个节点的指针。    C/C++：C和C++中的链表也可以通过自定义结构体来实现，每个节点包含一个值和一个指向下一个节点的指针。\n",
    "- 栈 (Stack):Python：在Python中，可以使用列表来模拟栈的行为，列表的末尾作为栈的顶部。   C/C++：C和C++中可以通过数组或链表来实现栈。\n",
    "- 队列 (Queue):Python：Python提供了queue模块，其中包含了多种队列的实现，如Queue、PriorityQueue等。  C/C++：C和C++中可以通过数组或链表来实现队列，也可以使用标准库中的队列实现。\n",
    "- 树 (Tree):Python：Python中的树可以通过自定义类来实现，每个节点包含一个值和指向子节点的指针。  C/C++：C和C++中的树可以通过自定义结构体来实现，每个节点包含一个值和指向子节点的指针。\n",
    "\n",
    "还有一些其他的数据结构，我还没有学到，后面学到再聊。    \n",
    "\n",
    "**本节，主要讨论Python中的列表（List）、元组（Tuple）、集合（Set）和字典（Dictionary）。**"
   ]
  },
  {
   "cell_type": "markdown",
   "metadata": {},
   "source": [
    "## 5.2 列表 List\n",
    "\n",
    "在讨论列表之前，我们需要先讨论下数组，数组是基本的数据结构，所以几乎在所有计算机中都与内存系统直接对应。指向数组元素的引用在内存中连续存储，所以可简单高效地访问任何数组的元素。\n",
    "\n",
    "但是，**Python程序员一般不区分数组和Python列表（List）**。 -- 摘自《程序设计导论，Python语言实践》p71\n",
    "\n",
    "故此，本节内容使用Python内置列表（List）数据类型表示数组，主要讲解数组和列表的相同操作，即四个核心操作：\n",
    "\n",
    "- 创建数组\n",
    "- 索引访问\n",
    "- 索引赋值\n",
    "- 迭代遍历\n",
    "\n",
    "---\n",
    "\n",
    "\n",
    "这里，就要思考一下Python的列表（List）和C语言中的数组（Array）的区别，为了便于说明，后文直接使用List和Array来区分 Python列表和C语言数组。 具体如下：\n",
    "\n",
    "- 元素类型的灵活性：在传统的数组中，通常要求所有元素的类型是相同的。\n",
    "在 Python 的列表中，可以容纳不同类型的元素，即使它们具有不同的数据类型。\n",
    "\n",
    "- 大小的动态性：在传统的数组中，通常在创建时就需要指定数组的大小，并且大小通常是固定的。\n",
    "在 Python 的列表中，可以动态地添加或删除元素，而且列表的大小可以根据需要动态调整，因此列表的大小是可变的。\n",
    "\n",
    "- 底层实现的差异：这里先不聊底层实现"
   ]
  },
  {
   "cell_type": "markdown",
   "metadata": {},
   "source": [
    "### 5.2.1 列表/数组的创建\n",
    "\n",
    "`[]` "
   ]
  },
  {
   "cell_type": "code",
   "execution_count": 4,
   "metadata": {},
   "outputs": [
    {
     "name": "stdout",
     "output_type": "stream",
     "text": [
      "[1, 2, 3, 4, 5]\n"
     ]
    }
   ],
   "source": [
    "# 创建数组\n",
    "my_list = [1, 2, 3, 4, 5]\n",
    "print(my_list)"
   ]
  },
  {
   "cell_type": "markdown",
   "metadata": {},
   "source": [
    "### 5.2.2 数组边界检查\n",
    "\n",
    "抛出 `IndexError` 异常的经典例子："
   ]
  },
  {
   "cell_type": "code",
   "execution_count": 2,
   "metadata": {},
   "outputs": [
    {
     "name": "stdout",
     "output_type": "stream",
     "text": [
      "索引超出了列表的边界\n"
     ]
    }
   ],
   "source": [
    "my_list = [1, 2, 3, 4, 5]\n",
    "\n",
    "try:\n",
    "    print(my_list[10])  # 这个索引超出了列表的边界\n",
    "except IndexError:\n",
    "    print(\"索引超出了列表的边界\")"
   ]
  },
  {
   "cell_type": "markdown",
   "metadata": {},
   "source": [
    "### 5.2.3 数组的索引访问"
   ]
  },
  {
   "cell_type": "code",
   "execution_count": 6,
   "metadata": {},
   "outputs": [
    {
     "name": "stdout",
     "output_type": "stream",
     "text": [
      "1 3 5\n"
     ]
    }
   ],
   "source": [
    "# 索引访问\n",
    "first_element = my_list[0]  # 访问第一个元素\n",
    "third_element = my_list[2]  # 访问第三个元素\n",
    "last_element = my_list[-1]  # 访问最后一个元素\n",
    "print(first_element, third_element, last_element)"
   ]
  },
  {
   "cell_type": "markdown",
   "metadata": {},
   "source": [
    "### 5.2.4 数组的索引赋值\n"
   ]
  },
  {
   "cell_type": "code",
   "execution_count": 7,
   "metadata": {},
   "outputs": [
    {
     "name": "stdout",
     "output_type": "stream",
     "text": [
      "[10, 2, 3, 4, 50]\n"
     ]
    }
   ],
   "source": [
    "# 索引赋值\n",
    "my_list[0] = 10  # 将第一个元素修改为 10\n",
    "my_list[-1] = 50  # 将最后一个元素修改为 50\n",
    "print(my_list)"
   ]
  },
  {
   "cell_type": "markdown",
   "metadata": {},
   "source": [
    "### 5.2.5 数组的迭代遍历\n"
   ]
  },
  {
   "cell_type": "code",
   "execution_count": 13,
   "metadata": {},
   "outputs": [
    {
     "name": "stdout",
     "output_type": "stream",
     "text": [
      "[1, 2, 3, 4, 5]\n",
      "\n",
      "\n",
      "1\n",
      "2\n",
      "3\n",
      "4\n",
      "5\n"
     ]
    }
   ],
   "source": [
    "# 创建数组\n",
    "my_list = [1, 2, 3, 4, 5]\n",
    "print(my_list)\n",
    "print('\\n')\n",
    "# 迭代遍历\n",
    "for item in my_list:\n",
    "    print(item)\n"
   ]
  },
  {
   "cell_type": "markdown",
   "metadata": {},
   "source": [
    "### 5.2.6 一维数组的应用：无放回抽样\n",
    "\n",
    "Sampling without Replacement ，任何样本一经被抽出，就不会有再被抽取的可能性。   \n",
    "\n",
    "无放回抽样的应用非常广泛，比如在统计学中，我们经常需要从总体中进行无放回抽样，以获得一个样本；还有在彩票中，我们经常需要从号码池中进行无放回抽样，以获得一组号码。\n",
    "\n",
    "\n",
    "\n",
    "下面看例子："
   ]
  },
  {
   "cell_type": "code",
   "execution_count": 16,
   "metadata": {},
   "outputs": [
    {
     "name": "stdout",
     "output_type": "stream",
     "text": [
      "[2, 6, 4, 8, 5]\n"
     ]
    }
   ],
   "source": [
    "# Test Version1\n",
    "\n",
    "import sys\n",
    "import random\n",
    "\n",
    "def sampling_without_replacement(population, k):\n",
    "    \"\"\"\n",
    "    从给定的总体中进行无放回抽样。\n",
    "\n",
    "    参数:\n",
    "    population: 总体，一个列表。\n",
    "    k: 抽样数量。\n",
    "\n",
    "    返回值:\n",
    "    一个列表，包含从总体中抽取的 k 个样本。\n",
    "    \"\"\"\n",
    "    return random.sample(population, k)\n",
    "\n",
    "# 给定要抽取的样本数量\n",
    "k = 5\n",
    "\n",
    "# 从命令行接收参数=要抽取的样本数量\n",
    "# k = int(sys.argv[1])\n",
    "\n",
    "# 测试函数\n",
    "# 给定要抽取的样本值 []\n",
    "population = [1, 2, 3, 4, 5, 6, 7, 8, 9, 10]\n",
    "\n",
    "# 从命令行接收参数=样本值 int(x) for x in sys.argv[2:]\n",
    "# population = [int(x) for x in sys.argv[2:]]\n",
    "\n",
    "print(sampling_without_replacement(population, k))"
   ]
  },
  {
   "cell_type": "code",
   "execution_count": 17,
   "metadata": {},
   "outputs": [
    {
     "name": "stdout",
     "output_type": "stream",
     "text": [
      "[2, 10, 8, 5, 9]\n"
     ]
    }
   ],
   "source": [
    "# Test Version2\n",
    "\n",
    "import sys\n",
    "import random\n",
    "\n",
    "def sampling_without_replacement(population, k):\n",
    "    \"\"\"\n",
    "    从给定的总体中进行无放回抽样。\n",
    "\n",
    "    参数:\n",
    "    population: 总体，一个列表。\n",
    "    k: 抽样数量。\n",
    "\n",
    "    返回值:\n",
    "    一个列表，包含从总体中抽取的 k 个样本。\n",
    "    \"\"\"\n",
    "    return random.sample(population, k)\n",
    "\n",
    "# 给定要抽取的样本数量\n",
    "k = 5\n",
    "\n",
    "# 从命令行接收参数=要抽取的样本数量\n",
    "# k = int(sys.argv[1])\n",
    "\n",
    "# 测试函数\n",
    "# 给定要抽取的样本值 []\n",
    "population = [1, 2, 3, 4, 5, 6, 7, 8, 9, 10]\n",
    "\n",
    "# 从命令行接收参数=样本值 int(x) for x in sys.argv[2:]\n",
    "# population = [int(x) for x in sys.argv[2:]]\n",
    "\n",
    "print(sampling_without_replacement(population, k))"
   ]
  },
  {
   "cell_type": "markdown",
   "metadata": {},
   "source": [
    "上述    ` def sampling_without_replacement ` 的返回值，用到了一个函数：`random.sample()`。 \n",
    "\n",
    "random.sample() 是 Python 的内置函数，用于从指定的序列（可以是列表、元组或字符串）中随机获取指定长度的片段。random.sample() 不会改变原有序列。 \n",
    "\n",
    "语法： `random.sample(sequence, k)` \n",
    "\n",
    "解释：sequence：表示要从中选择随机样本的序列；k：表示要选择的随机样本的长度。\n",
    "\n",
    "如若需要从 Terminal 获取 `m,n` 的值，可以对 `sampling-wot-replacement.py` 文件进行修改，对相关行进行注释即可。\n",
    "\n",
    "\n",
    "我对 `` 进行修改运行后，如果` k `值小于 `sequence` 的值，会抛出 `ValueError` 异常。\n",
    "\n",
    "![](https://img.imotao.com/i/2024/02/06/65c1cace6e23e.png)"
   ]
  }
 ],
 "metadata": {
  "kernelspec": {
   "display_name": "Python 3",
   "language": "python",
   "name": "python3"
  },
  "language_info": {
   "codemirror_mode": {
    "name": "ipython",
    "version": 3
   },
   "file_extension": ".py",
   "mimetype": "text/x-python",
   "name": "python",
   "nbconvert_exporter": "python",
   "pygments_lexer": "ipython3",
   "version": "3.11.7"
  }
 },
 "nbformat": 4,
 "nbformat_minor": 2
}
