{
 "cells": [
  {
   "cell_type": "markdown",
   "metadata": {},
   "source": [
    "## 5.1 Python内置数据结构简介\n",
    "\n",
    "第08课：常用数据结构之列表  >> 8-12课\n",
    "https://github.com/jackfrued/Python-Core-50-Courses/blob/master/%E7%AC%AC08%E8%AF%BE%EF%BC%9A%E5%B8%B8%E7%94%A8%E6%95%B0%E6%8D%AE%E7%BB%93%E6%9E%84%E4%B9%8B%E5%88%97%E8%A1%A8.md\n",
    "\n",
    "我记得我在学习C语言的时候，还没有听过有内置数据结构这个说法。现在，来看看Python为什么要有内置数据结构？\n",
    "\n",
    "- 内置数据结构消除了程序员需要从头开始实现基本数据结构的需要。通过内置数据结构，开发人员可以直接使用这些数据结构来存储和操作数据，而无需编写额外的代码。\n",
    "- Python内置数据结构的设计和实现是经过精心考虑的，遵循了Python语言的设计原则和惯例。这使得不同的Python程序员能够在各种项目中使用相同的数据结构，并且可以轻松地理解和协作。\n",
    "- Python的内置数据结构通常提供了丰富的API和功能，使得开发人员能够方便地对数据进行操作、查询和修改，同时也支持一些高级功能，如迭代、切片、排序等。\n",
    "\n",
    "如果要聊数据结构的话，在Python、C、C++中都会遇到的数据结构有：\n",
    "- 数组 (Array):Python：Python中的列表（List）类似于数组，它是一种有序的、可变长度的序列，可以存储任意类型的元素。   C/C++：C和C++中的数组是一种固定长度的数据结构，存储相同类型的元素。\n",
    "- 链表 (Linked List):Python：在Python中，链表可以通过自定义类来实现，每个节点包含一个值和一个指向下一个节点的指针。    C/C++：C和C++中的链表也可以通过自定义结构体来实现，每个节点包含一个值和一个指向下一个节点的指针。\n",
    "- 栈 (Stack):Python：在Python中，可以使用列表来模拟栈的行为，列表的末尾作为栈的顶部。   C/C++：C和C++中可以通过数组或链表来实现栈。\n",
    "- 队列 (Queue):Python：Python提供了queue模块，其中包含了多种队列的实现，如Queue、PriorityQueue等。  C/C++：C和C++中可以通过数组或链表来实现队列，也可以使用标准库中的队列实现。\n",
    "- 树 (Tree):Python：Python中的树可以通过自定义类来实现，每个节点包含一个值和指向子节点的指针。  C/C++：C和C++中的树可以通过自定义结构体来实现，每个节点包含一个值和指向子节点的指针。\n",
    "\n",
    "还有一些其他的数据结构，我还没有学到，后面学到再聊。    \n",
    "\n",
    "**本节，主要讨论Python中的列表（List）、元组（Tuple）、集合（Set）和字典（Dictionary）。**"
   ]
  },
  {
   "cell_type": "markdown",
   "metadata": {},
   "source": [
    "## 5.2 列表 List\n",
    "\n"
   ]
  }
 ],
 "metadata": {
  "language_info": {
   "name": "python"
  }
 },
 "nbformat": 4,
 "nbformat_minor": 2
}
