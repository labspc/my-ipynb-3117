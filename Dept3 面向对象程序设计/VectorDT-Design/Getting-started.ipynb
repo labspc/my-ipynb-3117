{
 "cells": [
  {
   "cell_type": "markdown",
   "metadata": {},
   "source": [
    "## 1. 平面向量介绍\n",
    "\n",
    "本节要用到平面向量的知识，涉及三个运算：求和、数乘、点乘\n",
    "\n",
    "我们的目标是，设计一个 `向量Vector数据类型` 。"
   ]
  },
  {
   "cell_type": "markdown",
   "metadata": {},
   "source": [
    "## 2. API 设计\n",
    "\n",
    "以下是向量 `Vector` 类的 API 表格：\n",
    "\n",
    "| 方法名                | 描述             | 参数          | 返回值      |\n",
    "|----------------------|------------------|---------------|-------------|\n",
    "| \\_\\_init\\_\\_(self, x, y)   | `构造函数`，创建一个二维向量对象 | x (float), y (float) | 无          |\n",
    "| add(other)           | `求和`运算，将当前向量与另一个向量相加，并返回一个新的向量作为结果 | other (Vector) | Vector      |\n",
    "| scalar_multiply(scalar) | `数乘`运算，将当前向量乘以一个标量 | scalar (float) | Vector      |\n",
    "| dot_product(other)   | `点乘`运算，计算当前向量与另一个向量的点乘，并返回结果 | other (Vector) | float       |\n",
    "| get_x()              | 获取向量的 x 分量 | 无            | float       |\n",
    "| get_y()              | 获取向量的 y 分量 | 无            | float       |\n",
    "\n",
    "这个表格清晰地展示了向量 `Vector` 类的每个方法的名称、描述、参数以及返回值。"
   ]
  },
  {
   "cell_type": "markdown",
   "metadata": {},
   "source": [
    "## 3. 客户端与数据表示方式\n",
    "\n",
    "`get_x()` 和 `get_y()` ，用坐标来表示一个向量。\n",
    "\n",
    "如下："
   ]
  },
  {
   "cell_type": "code",
   "execution_count": null,
   "metadata": {},
   "outputs": [],
   "source": [
    "# 创建两个向量\n",
    "v1 = Vector(2, 3)\n",
    "v2 = Vector(4, 5)"
   ]
  }
 ],
 "metadata": {
  "language_info": {
   "name": "python"
  }
 },
 "nbformat": 4,
 "nbformat_minor": 2
}
