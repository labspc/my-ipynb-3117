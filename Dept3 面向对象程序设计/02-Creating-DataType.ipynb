{
 "cells": [
  {
   "cell_type": "markdown",
   "metadata": {},
   "source": [
    "## 3.2 创建数据类型：BankAccount Class\n",
    "\n",
    "我认为，学习在OOP中创建一个数据类型，最好的方法就是，在一个完整的例子中，把有关概念得以运用。将抽象的概念，具象化到具体的例子中去，思考概念和例子的转换，对于理解OOP程序设计思路，是一个非常好的学习方法。\n",
    "\n",
    "在Python中，我们使用类来实现一个数据类型；定义一个数据类型的过程被称为数据抽象。\n",
    "\n"
   ]
  },
  {
   "cell_type": "markdown",
   "metadata": {},
   "source": [
    "## 3.3 基本概念导入\n",
    "\n",
    "让我们依次解释程序中出现的一些重要概念：\n",
    "\n",
    "1. **API (Application Programming Interface)**：\n",
    "   - API是指软件系统提供给其他软件应用程序使用的接口。\n",
    "   - 在这个程序中，BankAccount类提供了一组方法，即API，用于与银行账户交互，例如存款、取款、获取余额和获取账户号码等。\n",
    "\n",
    "2. **类 (Class)**：\n",
    "   - 类是一种抽象数据类型，它定义了一组属性和方法，用于描述具有相似特征和行为的对象集合。\n",
    "   - 在这个程序中，BankAccount类定义了银行账户的属性和行为。\n",
    "\n",
    "\n",
    "3. **构造函数 (Constructor)**：\n",
    "   - 构造函数是一种特殊的方法，在创建类的实例时被调用，用于初始化对象的状态。\n",
    "   - 在Python中，构造函数使用`__init__`方法来定义。在这个程序中，`__init__`方法用于初始化银行账户的账号和余额。\n",
    "\n",
    "   `__init__`方法，可以看成是一个 idioms ，我们在用完 `class` 创建 `BankAccount`后，我们紧接着要使用 `__init__`方法 规定 `BankAccount` 的属性。\n",
    "\n",
    "   这就是一个 idioms，没有什么好纠结的。 对于构造函数的理解，我们认为它就是 `__init__` 方法，即可（目前这样理解就行）。\n",
    "\n",
    "\n",
    "4. **实例变量 (Instance Variable)**：\n",
    "   - 实例变量是属于类的每个实例的变量，用于存储对象的状态和属性。\n",
    "   - 在这个程序中，`_account_number`和`_balance`是BankAccount类的实例变量，用于存储账户号码和余额。\n",
    "\n",
    "\n",
    "5. **对象创建 (Object Creation)**：\n",
    "   - 对象创建是指通过实例化类来创建类的对象的过程。\n",
    "   - 在这个程序中，通过`account1 = BankAccount(\"123456\", 1000)`创建了一个BankAccount类的对象`account1`。\n",
    "\n",
    "6. **方法 (Method)**：\n",
    "   - 方法是与类或对象关联的函数，用于 **执行特定的操作** 或功能。\n",
    "   - 在这个程序中，`deposit()`、`withdraw()`、`get_balance()`和`get_account_number()`是BankAccount类的方法，用于实现存款、取款、获取余额和获取账户号码的 **功能**。\n",
    "\n",
    "   牢记：**方法Method 来实现数据类型的操作。**  其实，方法本质上就是函数。\n",
    "\n",
    "   https://github.com/jackfrued/Python-Core-50-Courses/blob/master/%E7%AC%AC17%E8%AF%BE%EF%BC%9A%E9%9D%A2%E5%90%91%E5%AF%B9%E8%B1%A1%E7%BC%96%E7%A8%8B%E5%85%A5%E9%97%A8.md#%E5%AE%9A%E4%B9%89%E7%B1%BB\n",
    "\n",
    "   就如同定义函数那样。在类的代码块中，我们需要写一些函数，我们说过类是一个抽象概念，那么这些函数就是我们对一类对象共同的动态特征的提取。**写在类里面的函数我们通常称之为方法，方法就是对象的行为，也就是对象可以接收的消息** 。方法的第一个参数通常都是self，它代表了接收这个消息的对象本身。\n",
    "\n",
    "7. **方法中的变量 (Method Variable)**：\n",
    "   \n",
    "   这个概念不是很好理解，我们要区分三种类型的变量：\n",
    "   - self 的 实例变量 ： 作用于类\n",
    "   - 方法Method 的 参数变量 ： 方法中\n",
    "   - 局部变量：方法中\n"
   ]
  },
  {
   "cell_type": "code",
   "execution_count": 2,
   "metadata": {},
   "outputs": [
    {
     "name": "stdout",
     "output_type": "stream",
     "text": [
      "Account Number: 123456\n",
      "Balance: 1000\n",
      "Updated Balance: 1300\n"
     ]
    }
   ],
   "source": [
    "# 定义一个 BankAccount 类\n",
    "class BankAccount:\n",
    "    # __init__ 方法（记作一个 idioms）\n",
    "    def __init__(self, account_number, balance=0):\n",
    "        # 一个 idiom：只能在构造函数中，定义和初始化一个新建对象的实例变量\n",
    "        self._account_number = account_number  # 隐藏账户号码的细节，使用下划线表示私有属性\n",
    "        self._balance = balance  # 隐藏余额的细节\n",
    "\n",
    "    def deposit(self, amount): \n",
    "    # self是特殊参数变量，amount是普通参数变量\n",
    "        \n",
    "        \"\"\"存款\"\"\"\n",
    "        if amount > 0:\n",
    "            self._balance += amount # _balance是实例变量\n",
    "\n",
    "    def withdraw(self, amount):\n",
    "        \"\"\"取款\"\"\"\n",
    "        if 0 < amount <= self._balance:\n",
    "            self._balance -= amount\n",
    "        else:\n",
    "            print(\"Insufficient funds\")\n",
    "\n",
    "    def get_balance(self):\n",
    "        \"\"\"获取余额\"\"\"\n",
    "        return self._balance\n",
    "\n",
    "    def get_account_number(self):\n",
    "        \"\"\"获取账户号码\"\"\"\n",
    "        return self._account_number\n",
    "\n",
    "# 创建一个 BankAccount 类的对象\n",
    "account1 = BankAccount(\"123456\", 1000)\n",
    "\n",
    "# 调用类的方法\n",
    "print(\"Account Number:\", account1.get_account_number())  # 输出账户号码\n",
    "print(\"Balance:\", account1.get_balance())  # 输出余额\n",
    "\n",
    "# 进行存款和取款操作\n",
    "account1.deposit(500)\n",
    "account1.withdraw(200)\n",
    "\n",
    "# 再次打印余额\n",
    "print(\"Updated Balance:\", account1.get_balance())  # 输出更新后的余额\n",
    "\n"
   ]
  },
  {
   "cell_type": "markdown",
   "metadata": {},
   "source": [
    "上述代码的 `API` 文档如下：\n",
    "\n",
    "| 方法名               | 描述                   | 参数                          | 返回值             |\n",
    "|---------------------|------------------------|-------------------------------|-------------------|\n",
    "| \\_\\_init\\_\\_        | 创建银行账户对象         | account_number (str), balance=0 (float) | 无               |\n",
    "| deposit             | 存款到账户中             | amount (float)                | 无               |\n",
    "| withdraw            | 从账户中取款             | amount (float)                | 无或错误信息      |\n",
    "| get_balance         | 获取账户的余额           | 无                            | balance (float)   |\n",
    "| get_account_number  | 获取账户的账号           | 无                            | account_number (str) |\n",
    "\n",
    "这个表格清晰地展示了 BankAccount 类的每个方法的名称、描述、参数以及返回值。用户可以根据这个表格了解如何使用这些方法来操作银行账户对象。"
   ]
  }
 ],
 "metadata": {
  "kernelspec": {
   "display_name": "Python 3",
   "language": "python",
   "name": "python3"
  },
  "language_info": {
   "codemirror_mode": {
    "name": "ipython",
    "version": 3
   },
   "file_extension": ".py",
   "mimetype": "text/x-python",
   "name": "python",
   "nbconvert_exporter": "python",
   "pygments_lexer": "ipython3",
   "version": "3.11.7"
  }
 },
 "nbformat": 4,
 "nbformat_minor": 2
}
