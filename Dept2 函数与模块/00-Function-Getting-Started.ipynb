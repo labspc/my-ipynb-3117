{
 "cells": [
  {
   "cell_type": "markdown",
   "metadata": {},
   "source": [
    "## 2.1 函数与程序设计\n",
    "\n",
    "摘自：《程序设计导论，Python语言实践》p137\n",
    "\n",
    "函数的重要意义在于，可以在程序中清晰地分离不同的任务，而且为代码复用，提供了一个通用的机制。"
   ]
  },
  {
   "cell_type": "markdown",
   "metadata": {},
   "source": [
    "### 2.1.1 一个原则：重要的程序设计理念\n",
    "\n",
    "**在计算任务中，任何时候只要可以清晰地分离任务，则建议使用函数分离任务。**\n",
    "\n",
    "首先解释下，什么是调和数：\n",
    "\n",
    "![](https://img.imotao.com/i/2024/02/06/65c1f0855f112.png)\n",
    "\n",
    "下面看一个调和数函数 harmonics(n) 的例子：\n",
    "\n",
    "`print(\"调和数 H({}) = {}\".format(n, harmonic_number(n)))` \n",
    "\n",
    "解释：这里使用了 Python 的字符串格式化方法 .format() 来插入变量 n 和 harmonic_number(n) 的值到字符串中。\n"
   ]
  },
  {
   "cell_type": "code",
   "execution_count": 8,
   "metadata": {},
   "outputs": [
    {
     "name": "stdout",
     "output_type": "stream",
     "text": [
      "调和数 H(100000000) = 18.997896413852555\n"
     ]
    }
   ],
   "source": [
    "def harmonic_number(n):\n",
    "    \"\"\"\n",
    "    计算调和数H(n)\n",
    "    \"\"\"\n",
    "    if n < 1:\n",
    "        return \"n必须大于等于1\"\n",
    "    result = 0.0\n",
    "    for i in range(1, n + 1):\n",
    "        result += 1 / i\n",
    "    return result\n",
    "\n",
    "# 测试\n",
    "n = int(input(\"请输入一个整数 n：\"))\n",
    "print(\"调和数 H({}) = {}\".format(n, harmonic_number(n)))\n"
   ]
  },
  {
   "cell_type": "markdown",
   "metadata": {},
   "source": [
    "下面再看一个书中写的调和数函数：\n",
    "\n",
    "![](https://img.imotao.com/i/2024/02/06/65c1f69e3710e.png)\n",
    "\n",
    "上图为测试输出 ⬆\n",
    "\n"
   ]
  },
  {
   "cell_type": "code",
   "execution_count": null,
   "metadata": {},
   "outputs": [],
   "source": [
    "#-----------------------------------------------------------------------\n",
    "# harmonicf.py\n",
    "# https://introcs.cs.princeton.edu/python/21function/harmonicf.py.html\n",
    "#-----------------------------------------------------------------------\n",
    "\n",
    "import stdio\n",
    "import sys\n",
    "\n",
    "# Return the nth harmonic number.\n",
    "def harmonic(n): # n代表调和数的阶数\n",
    "    total = 0.0\n",
    "\n",
    "    # 这就是 Python 中实现调和数的函数的主要代码\n",
    "    for i in range(1, n+1):\n",
    "        # total += 1.0 / float(i)\n",
    "        total = total + 1.0 / float(i)\n",
    "    return total\n",
    "\n",
    "# Write to standard output the harmonic numbers specified as\n",
    "# command-line arguments.\n",
    "\n",
    "for j in range(1, len(sys.argv)):\n",
    "\n",
    "    arg = int(sys.argv[j]) #获取命令行参数，并进行显式类型转换\n",
    "    value = harmonic(arg) # arg = n，调用调和数函数，返回值 total，再赋值给 value\n",
    "    stdio.writeln(value) \n"
   ]
  },
  {
   "cell_type": "markdown",
   "metadata": {},
   "source": [
    "### 2.1.2 程序追踪：函数的调用和返回值跟踪\n",
    "\n",
    "跟踪函数调用控制流程的一个最简单方法是，假定每个程序在调用时输出自己的函数名和各参数值，并在返回时输出返回值，调用函数后采用缩进显示输出格式，返回值的输出格式则取消缩进。\n"
   ]
  },
  {
   "cell_type": "code",
   "execution_count": 10,
   "metadata": {},
   "outputs": [
    {
     "name": "stdout",
     "output_type": "stream",
     "text": [
      "调和数 H(2) = 1.5\n"
     ]
    }
   ],
   "source": [
    "def harmonic_number(n):\n",
    "    \"\"\"\n",
    "    计算调和数H(n)\n",
    "    \"\"\"\n",
    "    if n < 1:\n",
    "        return \"n必须大于等于1\"\n",
    "    result = 0.0\n",
    "    for i in range(1, n + 1):\n",
    "        result += 1 / i\n",
    "    return result\n",
    "\n",
    "# 测试\n",
    "n = int(input(\"请输入一个整数 n：\"))\n",
    "print(\"调和数 H({}) = {}\".format(n, harmonic_number(n)))\n"
   ]
  },
  {
   "cell_type": "markdown",
   "metadata": {},
   "source": [
    "i=1\n",
    "arg=1\n",
    "harmonic(1)\n",
    "    total=0.0\n",
    "    total=1.0\n",
    "    return 1.0\n",
    "value=1.0"
   ]
  },
  {
   "cell_type": "markdown",
   "metadata": {},
   "source": [
    "i=2\n",
    "arg=2\n",
    "harmonic(2)\n",
    "    total=0.0\n",
    "    total=1.0\n",
    "    total=1.5\n",
    "    return 1.5\n",
    "value=1.5"
   ]
  },
  {
   "cell_type": "markdown",
   "metadata": {},
   "source": [
    "### 2.1.3 函数概念与Python语法构造\n",
    "\n",
    "摘自《程序设计导论，Python语言实践》p141\n",
    "\n",
    "| 函数概念        | Python 语法构造 | 功能描述                                      |\n",
    "|----------------|-----------------|----------------------------------------------|\n",
    "| 函数           | 函数             | 映射                                    |\n",
    "| 输入值           | 实际参数             | 函数的输入值                                  |\n",
    "| 输出值       | 返回值         | 函数的输出                                  |\n",
    "| 公式         | 函数体           | 函数定义                                  |\n",
    "| 独立变量       | 形式参数变量     | 输入值的符号占位符                            |\n",
    "\n",
    "以上是表格，用于描述函数概念和 Python 语言语法构造之间的对应关系。"
   ]
  },
  {
   "cell_type": "markdown",
   "metadata": {},
   "source": [
    "## 2.2 参数传递与返回值机制\n",
    "\n",
    "详见 `Dept2/01-Function.ipynb` 。\n"
   ]
  }
 ],
 "metadata": {
  "kernelspec": {
   "display_name": "Python 3",
   "language": "python",
   "name": "python3"
  },
  "language_info": {
   "codemirror_mode": {
    "name": "ipython",
    "version": 3
   },
   "file_extension": ".py",
   "mimetype": "text/x-python",
   "name": "python",
   "nbconvert_exporter": "python",
   "pygments_lexer": "ipython3",
   "version": "3.11.7"
  }
 },
 "nbformat": 4,
 "nbformat_minor": 2
}
