{
 "cells": [
  {
   "cell_type": "markdown",
   "metadata": {},
   "source": [
    "## 2.2 Function 初步\n",
    "在 Cnippets 里面，有学过函数的知识，https://labspc.gitbook.io/cnippets/chap4.-han-shu-yu-cheng-xu-jie-gou/4.1-han-shu-de-ji-chu-zhi-shi#xacba\n",
    "\n",
    ">\n",
    ">函数声明 function declaration，使得编译器可以先对函数进行概要浏览，而函数的完整定义以后再给\n",
    ">出。\n",
    ">\n",
    ">函数原型 function prototype，为如何调用函数提供了完整描述。\n",
    "\n",
    "我们有学上面的概念，现在看看Python下的函数又是什么样子的！\n",
    "\n",
    "用 `def` 定义，末位的英文半角 `:` 别忘记！"
   ]
  },
  {
   "cell_type": "code",
   "execution_count": null,
   "metadata": {},
   "outputs": [],
   "source": [
    "# 函数定义语法\n",
    "def function_name(list of parameters):\n",
    "    # function body"
   ]
  },
  {
   "cell_type": "markdown",
   "metadata": {},
   "source": [
    "如下用图解辅助理解，函数的定义和调用：\n",
    "\n",
    "![](https://img.imotao.com/i/2024/02/05/65c090777784a.jpeg)\n",
    "\n",
    "摘自《Python语言程序设计》p139，ISBN 9787111487685\n",
    "\n",
    "下面实操一个例子："
   ]
  },
  {
   "cell_type": "code",
   "execution_count": 1,
   "metadata": {},
   "outputs": [
    {
     "name": "stdout",
     "output_type": "stream",
     "text": [
      "The sum is: 8\n"
     ]
    }
   ],
   "source": [
    "def add_numbers(a, b):\n",
    "    \"\"\"\n",
    "    这个函数接受两个参数并返回它们的和。\n",
    "    \"\"\"\n",
    "    sum = a + b\n",
    "    return sum\n",
    "\n",
    "# 调用函数\n",
    "result = add_numbers(3, 5)\n",
    "print(\"The sum is:\", result)\n"
   ]
  },
  {
   "cell_type": "markdown",
   "metadata": {},
   "source": [
    "在上述这个例子中，我们定义了一个名为 add_numbers 的函数，它接受两个参数a和b。在函数体内，我们计算这两个参数的和，并将结果存储在变量sum中。最后，我们使用return语句返回计算的和。\n",
    "\n",
    "然后，我们调用 add_numbers 函数并将值3和5传递给它。函数返回的结果存储在变量 result 中，并被打印出来。"
   ]
  },
  {
   "cell_type": "markdown",
   "metadata": {},
   "source": [
    "## 2.3 import 与模块\n",
    "在Python中，你可以 **使用模块来管理函数，以解决命名重复的问题**。模块是Python代码的组织单元，它允许你将相关功能的函数、类和变量放在一起。\n",
    "\n",
    "下面会给出例子，先来看两个用法。\n",
    "\n",
    "1. 导入整个模块\n",
    "import module_name\n",
    "\n",
    " 2. 导入特定函数\n",
    "from module_name\n",
    "\n",
    "在导入模块时，还可以使用as关键字对模块进行别名，这样我们可以使用更为简短的完全限定名。\n",
    "\n",
    "具体见本目录下的 `math_operations`和 `import-main-function`文件 \n",
    "\n",
    "在这个例子中，我们首先通过import math_operations语句导入了math_operations.py模块。然后，我们使用math_operations模块中的函数来执行加法、减法和乘法运算。此外，我们在main.py中定义了一个名为add的自定义函数，它不会与math_operations模块中的函数冲突。我们可以在main.py中调用这个自定义函数。\n",
    "\n",
    "**使用模块管理函数是一种有效的方法，可以帮助组织代码并解决命名重复的问题。**\n",
    "\n",
    "输出如下："
   ]
  },
  {
   "cell_type": "raw",
   "metadata": {},
   "source": [
    "(base) ➜  my-ipynb-3117 git:(main) ✗ /opt/homebrew/bin/python3.12 \"/Users/lambert-m1/Documents\n",
    "/GitHub/my-ipynb-3117/04 Function/import-main-function.py\"\n",
    "Result of addition: 8\n",
    "Result of subtraction: 2\n",
    "Result of multiplication: 15\n",
    "Result of custom addition: 9"
   ]
  },
  {
   "cell_type": "markdown",
   "metadata": {},
   "source": [
    "## 2.4 内置函数\n",
    "Python标准库中还有一类函数是不需要`import`就能够直接使用的，我们将其称之为内置函数，这些内置函数都是很有用也是最常用的，下面的表格列出了一部分的内置函数。\n",
    "\n",
    "| 函数    | 说明                                                         |\n",
    "| ------- | ------------------------------------------------------------ |\n",
    "| `abs`   | 返回一个数的绝对值，例如：`abs(-1.3)`会返回`1.3`。           |\n",
    "| `bin`   | 把一个整数转换成以`'0b'`开头的二进制字符串，例如：`bin(123)`会返回`'0b1111011'`。 |\n",
    "| `chr`   | 将Unicode编码转换成对应的字符，例如：`chr(8364)`会返回`'€'`。 |\n",
    "| `hex`   | 将一个整数转换成以`'0x'`开头的十六进制字符串，例如：`hex(123)`会返回`'0x7b'`。 |\n",
    "| `input` | 从输入中读取一行，返回读到的字符串。                         |\n",
    "| `len`   | 获取字符串、列表等的长度。                                   |\n",
    "| `max`   | 返回多个参数或一个可迭代对象中的最大值，例如：`max(12, 95, 37)`会返回`95`。 |\n",
    "| `min`   | 返回多个参数或一个可迭代对象中的最小值，例如：`min(12, 95, 37)`会返回`12`。 |\n",
    "| `oct`   | 把一个整数转换成以`'0o'`开头的八进制字符串，例如：`oct(123)`会返回`'0o173'`。 |\n",
    "| `open`  | 打开一个文件并返回文件对象。                                 |\n",
    "| `ord`   | 将字符转换成对应的Unicode编码，例如：`ord('€')`会返回`8364`。 |\n",
    "| `pow`   | 求幂运算，例如：`pow(2, 3)`会返回`8`；`pow(2, 0.5)`会返回`1.4142135623730951`。 |\n",
    "| `print` | 打印输出。                                                   |\n",
    "| `range` | 构造一个范围序列，例如：`range(100)`会产生`0`到`99`的整数序列。 |\n",
    "| `round` | 按照指定的精度对数值进行四舍五入，例如：`round(1.23456, 4)`会返回`1.2346`。 |\n",
    "| `sum`   | 对一个序列中的项从左到右进行求和运算，例如：`sum(range(1, 101))`会返回`5050`。 |\n",
    "| `type`  | 返回对象的类型，例如：`type(10)`会返回`int`；而` type('hello')`会返回`str`。 |\n",
    "\n",
    "\n",
    "这里我们想想在学 C++ 的时候，可以想想，有标准库、库函数这个说法，我们往往需要 `#include` 一些头文件，这里的内置函数大概可以这样理解，只是我们不需要再 `#include` 。 "
   ]
  },
  {
   "cell_type": "markdown",
   "metadata": {},
   "source": [
    "以下再来看看几个函数应用："
   ]
  },
  {
   "cell_type": "code",
   "execution_count": 2,
   "metadata": {},
   "outputs": [
    {
     "name": "stdout",
     "output_type": "stream",
     "text": [
      "NyPvQELj\n"
     ]
    }
   ],
   "source": [
    "import random\n",
    "import string\n",
    "\n",
    "def generate_captcha(length=6):\n",
    "    # 定义所有可能用于验证码的字符集合\n",
    "    characters = string.ascii_letters + string.digits\n",
    "    \n",
    "    # 从字符集合中随机选择指定长度的字符生成验证码\n",
    "    captcha_code = ''.join(random.choice(characters) for _ in range(length))\n",
    "    \n",
    "    return captcha_code\n",
    "\n",
    "# 测试生成一个长度为8的验证码\n",
    "print(generate_captcha(8))"
   ]
  },
  {
   "cell_type": "markdown",
   "metadata": {},
   "source": [
    "上述程序解释：\n",
    "在这个函数中，string.ascii_letters 包含所有英文大小写字母，string.digits 包含0-9的所有数字。通过random.choice()函数从这个集合中随机选取指定数量的字符来生成验证码。\n",
    "上述程序是一个很经典的，生成随机验证码的程序。\n",
    "\n",
    "`''.join(random.choice(characters) for _ in range(length)) ` 使用了一个列表推导式来生成一个包含随机字符的列表。\n",
    "语法：\n",
    "[expression for item in iterable]\n",
    "\n",
    "expression：表达式，生成的列表元素的表达式。 random.choice(characters)   从字符集合中随机选取一个字符，生成一个列表。\n",
    "item：列表元素的变量名。_ 代表用来占位，表示列表中的每个元素。\n",
    "iterable：可迭代对象，表示要生成列表的范围。range(length) 生成一个从0开始，到length结束的范围。\n",
    "\n",
    "for _ in range(length) 表示遍历这个范围，每次迭代都生成一个随机字符。\n",
    "最后，\n",
    "\n"
   ]
  },
  {
   "cell_type": "markdown",
   "metadata": {},
   "source": [
    "接下来，我们使用 ''.join() 方法将生成的随机字符列表连接成一个字符串。''.join() 方法的语法如下：\n",
    "str.join(iterable) \n",
    "str是空字符串''  iterable是可迭代对象，如列表、元组、字符串，也就是前面的列表。 str.join()方法会将可迭代对象中的元素用str连接起来。  说白了就是字符串拼接，可以思考一下C语言里面怎么做，Python是不是上手挺简单的。\n",
    "\n",
    "random.choice(characters)\n",
    "random.choice(characters) 是 Python 的 random 模块中的一个函数，用于从给定的字符串中随机选择一个字符。characters 是一个字符串，表示允许的字符集。\n",
    "\n",
    "到此，这个程序结束，我们提到了很多新东西，说实话我也是一头雾水，目前不必深究，大致知道最后可以实现我们想要的即可。 总结，这里字符串拼接真的太易上手，真的让我对 Python印象很好。"
   ]
  },
  {
   "cell_type": "markdown",
   "metadata": {},
   "source": [
    "\n",
    "## 2.5 函数及其参数\n",
    "\n",
    "在学习C语言时，我们知道，函数是可以带有参数表的，参数又分为两种：实际参数和形式参数。同时，函数的调用也分为两种：\n",
    "- 传值调用：将实际参数的值传递给形式参数，形式参数的改变不会影响实际参数的值。\n",
    "- 传地址调用：将实际参数的地址传递给形式参数，形式参数的改变会直接影响实际参数的值。\n",
    "\n",
    "https://labspc.gitbook.io/cnippets/chap4.-han-shu-yu-cheng-xu-jie-gou/4.1-han-shu-de-ji-chu-zhi-shi\n",
    "\n",
    "\n",
    "在Python中又是怎么一回事儿？\n",
    "    **函数实参是作为位置参数和关键字参数被传递。当函数被调用时，需要将实参传递给形参。实参有两种类型：位置参数和关键字参数。**"
   ]
  },
  {
   "cell_type": "markdown",
   "metadata": {},
   "source": [
    "### 2.5.1 位置参数\n",
    "调用函数时必须传入相同数量的参数值，并且按照相同的顺序进行匹配。也就是说，参数要按照在函数头的顺序进行传递。"
   ]
  },
  {
   "cell_type": "code",
   "execution_count": 1,
   "metadata": {},
   "outputs": [
    {
     "name": "stdout",
     "output_type": "stream",
     "text": [
      "Hello, Alice\n"
     ]
    }
   ],
   "source": [
    "\n",
    "def greet(name):\n",
    "    print(\"Hello,\", name)\n",
    "\n",
    "greet(\"Alice\")  # 输出: Hello, Alice"
   ]
  },
  {
   "cell_type": "markdown",
   "metadata": {},
   "source": [
    "### 2.5.2 关键字参数\n",
    "允许在函数调用时通过参数名称指定参数值。当函数被调用时， **关键字参数的顺序可以是任意的。** "
   ]
  },
  {
   "cell_type": "code",
   "execution_count": 2,
   "metadata": {},
   "outputs": [
    {
     "name": "stdout",
     "output_type": "stream",
     "text": [
      "Hello, Mr. Bob\n"
     ]
    }
   ],
   "source": [
    "\n",
    "def greet_with_title(name, title):\n",
    "    print(\"Hello,\", title, name)\n",
    "\n",
    "greet_with_title(name=\"Bob\", title=\"Mr.\")  # 输出: Hello, Mr. Bob\n"
   ]
  },
  {
   "cell_type": "markdown",
   "metadata": {},
   "source": [
    "### 2.5.3 默认参数\n",
    "\n",
    "允许定义带默认参数值的函数。如果调用函数时没有提供相应的参数值，则默认值将被使用。\n",
    "\n",
    "下面例子，参数 greeting 的默认值为 \"Hello\"。"
   ]
  },
  {
   "cell_type": "code",
   "execution_count": 4,
   "metadata": {},
   "outputs": [
    {
     "name": "stdout",
     "output_type": "stream",
     "text": [
      "Hello, Charlie\n",
      "Hi, David\n"
     ]
    }
   ],
   "source": [
    "# 参数是 name、greeting\n",
    "def greet_with_default(name, greeting=\"Hello\"):\n",
    "    print(greeting + \",\", name)\n",
    "\n",
    "greet_with_default(\"Charlie\")  # 输出: Hello, Charlie\n",
    "greet_with_default(\"David\", \"Hi\")  # 输出: Hi, David\n"
   ]
  },
  {
   "cell_type": "markdown",
   "metadata": {},
   "source": [
    "## 2.6 Lambda函数\n",
    "\n",
    "在Python中，lambda是一种用来**创建匿名函数的特殊语法**。\n",
    "\n",
    "### 2.6.1 Lambda函数是什么\n",
    "它可以用来创建简单的函数，通常用于需要一个函数，但是函数只被使用一次，不需要专门定义函数名的情况。\n",
    "\n",
    "语法定义：`lambda arguments: expression` \n",
    "\n",
    "其中：\n",
    "- lambda 是关键字，用于表示创建lambda函数。\n",
    "- arguments 是参数列表，可以是零个或多个参数，类似于普通函数的参数列表。\n",
    "- expression 是一个表达式，用于定义lambda函数的返回值。\n",
    "- lambda函数可以赋值给变量，也可以作为参数传递给其他函数。它**通常与内置函数map()、filter()、reduce()等一起使用**，以及在列表解析等场景中非常常见。\n",
    "\n",
    "### 2.6.2 什么是匿名函数\n",
    "上部分提到了，Lambda函数是什么，在此过程中出现了一个新词“匿名函数”，这个概念在C语言学习中，我是没有遇到。\n",
    "**没有明确定义函数名**的函数，通常只用于一次使用，因此称为“匿名函数”。\n",
    "\n",
    "### 2.6.3 为什么Python要设计Lambda函数\n",
    "- 简洁性：lambda表达式允许在一行代码内定义简单的函数，避免了显式地定义函数的过程，从而使代码更加简洁。\n",
    "\n",
    "- 方便性：在某些情况下，定义一个具名的函数可能显得过于繁琐，特别是当函数只在一个小范围内使用时，使用lambda表达式可以避免给函数取名，使代码更加紧凑。\n",
    "\n",
    "- 函数式编程：lambda函数在函数式编程风格中很常见，它们与map、filter、reduce等高阶函数结合使用，可以编写更简洁、优雅的代码。\n",
    "\n",
    "\n",
    "这样讲还是很抽象，下面具体看 demo：\n",
    "\n"
   ]
  },
  {
   "cell_type": "code",
   "execution_count": 5,
   "metadata": {},
   "outputs": [
    {
     "name": "stdout",
     "output_type": "stream",
     "text": [
      "8\n"
     ]
    }
   ],
   "source": [
    "# 1. **简单的加法函数**\n",
    "\n",
    "add = lambda x, y: x + y\n",
    "print(add(3, 5))  # 输出 8"
   ]
  },
  {
   "cell_type": "code",
   "execution_count": 6,
   "metadata": {},
   "outputs": [
    {
     "name": "stdout",
     "output_type": "stream",
     "text": [
      "15\n"
     ]
    }
   ],
   "source": [
    "\n",
    "# 2. **简单的乘法函数**\n",
    "\n",
    "multiply = lambda x, y: x * y\n",
    "print(multiply(3, 5))  # 输出 15"
   ]
  },
  {
   "cell_type": "code",
   "execution_count": 10,
   "metadata": {},
   "outputs": [
    {
     "name": "stdout",
     "output_type": "stream",
     "text": [
      "True\n",
      "False\n"
     ]
    }
   ],
   "source": [
    "# 3. **检查奇偶数**\n",
    "\n",
    "\n",
    "is_even = lambda x: x % 2 == 0\n",
    "\n",
    "print(is_even(4))  # 输出 True\n",
    "print(is_even(7))  # 输出 False"
   ]
  },
  {
   "cell_type": "code",
   "execution_count": 8,
   "metadata": {},
   "outputs": [
    {
     "name": "stdout",
     "output_type": "stream",
     "text": [
      "5\n"
     ]
    }
   ],
   "source": [
    "\n",
    "# 4. **取字符串长度**\n",
    "\n",
    "string_length = lambda s: len(s)\n",
    "print(string_length(\"hello\"))  # 输出 5"
   ]
  },
  {
   "cell_type": "code",
   "execution_count": 9,
   "metadata": {},
   "outputs": [
    {
     "name": "stdout",
     "output_type": "stream",
     "text": [
      "HELLO\n",
      "world\n"
     ]
    }
   ],
   "source": [
    "# 5. **字母大小写转换**\n",
    "\n",
    "uppercase = lambda s: s.upper()\n",
    "lowercase = lambda s: s.lower()\n",
    "\n",
    "print(uppercase(\"hello\"))  # 输出 HELLO\n",
    "print(lowercase(\"WORLD\"))  # 输出 world"
   ]
  },
  {
   "cell_type": "markdown",
   "metadata": {},
   "source": [
    "## 2.7 通过传引用来传递参数\n",
    "\n",
    "我们思考一下，在C语言中，我们知道函数的参数传递是：值传递的（call by value）。 而在，Python中函数参数的传递，要特殊一点点。\n",
    "\n",
    "### 2.7.1 可变对象与不可变对象\n",
    "\n",
    "在C语言，虽然没有明确的“可变对象”和“不可变对象”的概念，但是我们可以通过使用指针来模拟可变对象和不可变对象的行为，例如：通过指针来改变对象的值。\n",
    "\n",
    "而在Python中提出了“可变对象”和“不可变对象”的概念：\n",
    "可变对象：\n",
    "- 可以在创建后修改其内容。\n",
    "- 可变对象的值可以被修改，但其内存地址不会改变。\n",
    "- 例如，列表（list）、字典（dictionary）、集合（set）是可变对象。\n",
    "\n",
    "不可变对象：\n",
    "- 创建后无法更改其内容。\n",
    "- 不可变对象的值无法被修改，如果需要修改，需要创建一个新的对象。\n",
    "- 例如，整数（int）、浮点数（float）、字符串（string）、元组（tuple）是不可变对象。\n",
    "\n",
    "**为什么有这样一个概念呢？**\n",
    "Python之所以使用可变对象和不可变对象的概念，是因为它们对于编程模型和内存管理非常重要。例如，不可变对象的特性使得在并发编程中更容易进行线程安全的操作，因为无需担心对象的状态会在不同线程之间发生变化。\n",
    "\n",
    "**不可变对象**：一旦创建，对象的值就不能改变。例如，字符串是不可变对象，一旦创建，就不能改变它的值。下面的例子就说明了上述："
   ]
  },
  {
   "cell_type": "code",
   "execution_count": 6,
   "metadata": {},
   "outputs": [
    {
     "name": "stdout",
     "output_type": "stream",
     "text": [
      "Hello\n"
     ]
    },
    {
     "ename": "TypeError",
     "evalue": "'str' object does not support item assignment",
     "output_type": "error",
     "traceback": [
      "\u001b[0;31m---------------------------------------------------------------------------\u001b[0m",
      "\u001b[0;31mTypeError\u001b[0m                                 Traceback (most recent call last)",
      "Cell \u001b[0;32mIn[6], line 5\u001b[0m\n\u001b[1;32m      2\u001b[0m \u001b[38;5;28mprint\u001b[39m(s)  \u001b[38;5;66;03m# 输出：Hello\u001b[39;00m\n\u001b[1;32m      4\u001b[0m \u001b[38;5;66;03m# 尝试修改字符串中的某个字符，会引发 TypeError 错误\u001b[39;00m\n\u001b[0;32m----> 5\u001b[0m \u001b[43ms\u001b[49m\u001b[43m[\u001b[49m\u001b[38;5;241;43m0\u001b[39;49m\u001b[43m]\u001b[49m \u001b[38;5;241m=\u001b[39m \u001b[38;5;124m'\u001b[39m\u001b[38;5;124mJ\u001b[39m\u001b[38;5;124m'\u001b[39m\n\u001b[1;32m      6\u001b[0m \u001b[38;5;28mprint\u001b[39m(s)\n",
      "\u001b[0;31mTypeError\u001b[0m: 'str' object does not support item assignment"
     ]
    }
   ],
   "source": [
    "s = \"Hello\"\n",
    "print(s)  # 输出：Hello\n",
    "\n",
    "# 尝试修改字符串中的某个字符，会引发 TypeError 错误\n",
    "s[0] = 'J'\n",
    "print(s)\n"
   ]
  },
  {
   "cell_type": "markdown",
   "metadata": {},
   "source": [
    "### 2.7.2 对Python传引用的理解\n",
    "\n",
    "Python和C语言在函数参数传递方面有一些显著的不同，特别是在参数传递的方式上。\n",
    "\n",
    "**1. 参数传递方式的不同：**\n",
    "C语言：在C语言中，函数参数传递通常是通过 值传递（call by value）。这意味着函数在调用时会创建参数的 副本，并将副本的值传递给函数，函数内部对参数的修改 不会影响到原始变量。\n",
    "\n",
    "Python语言：Python中的参数传递方式有点不同。Python中的参数传递是通过对象的引用进行的。这意味着函数在调用时会传递对象的引用（或者说是指针），而不是对象的副本。这样，函数内部对参数的修改会影响到原始对象。 \n",
    "\n",
    "**2. 通过引用传递参数的理解：**\n",
    "在Python中，虽然说参数传递是通过对象的引用进行的，但是这并不意味着Python是通过引用传递参数的。实际上，Python的参数传递方式是一种混合方式，有时被称为\" ` call by object reference` \"。\n",
    "\n",
    "这里有几个关键点需要理解：\n",
    "\n",
    "对象的引用：Python中的变量是对对象的引用。当函数被调用时，参数传递的是对象的引用，也就是对象的地址。函数内部的操作实际上是 **对引用指向的对象的操作**，而不是对引用本身的操作。\n",
    "\n",
    "可变对象和不可变对象：当传递可变对象（如列表、字典等）时，函数内部对参数的修改会影响到原始对象。而对于不可变对象（如整数、字符串等），函数内部对参数的修改不会影响原始对象。\n",
    "\n",
    "综上所述，虽然Python中的参数传递方式是通过对象的引用进行的，但是由于对象的可变性和不可变性，函数对参数的修改表现出了不同的行为，这就是Python中\"通过引用传递参数\"的含义。\n",
    "\n",
    "注释：本部分由 ChatGPT 提供。"
   ]
  },
  {
   "cell_type": "code",
   "execution_count": 8,
   "metadata": {},
   "outputs": [
    {
     "ename": "SyntaxError",
     "evalue": "unterminated string literal (detected at line 7) (919173093.py, line 7)",
     "output_type": "error",
     "traceback": [
      "\u001b[0;36m  Cell \u001b[0;32mIn[8], line 7\u001b[0;36m\u001b[0m\n\u001b[0;31m    print(Before the call, x is:\", x)\u001b[0m\n\u001b[0m                                ^\u001b[0m\n\u001b[0;31mSyntaxError\u001b[0m\u001b[0;31m:\u001b[0m unterminated string literal (detected at line 7)\n"
     ]
    }
   ],
   "source": [
    "# 举例说明不可变对象\n",
    "from tkinter import N\n",
    "\n",
    "\n",
    "def main()\n",
    "    x=1\n",
    "    print(Before the call, x is:\", x)\n",
    "    \n",
    "    increment(x) #调用函数 increment()\n",
    "    print(\"After the call, x is:\", x)\n",
    "\n",
    "def increment(n):\n",
    "    n=n+1\n",
    "    print(\"Inside the function, n is:\", n)\n",
    "main()\n"
   ]
  },
  {
   "cell_type": "markdown",
   "metadata": {},
   "source": [
    "### 2.7.3 两变量交换的背后是什么\n",
    "\n",
    "在` /Dept1 程序设计基本元素/01-Variable-and-Type.ipynb `中，我们已经看到两变量的交换。现在，我们想想这个“简单”交换的背后是什么？"
   ]
  },
  {
   "cell_type": "code",
   "execution_count": 1,
   "metadata": {},
   "outputs": [
    {
     "name": "stdout",
     "output_type": "stream",
     "text": [
      "2\n"
     ]
    }
   ],
   "source": [
    "# /Dept1 程序设计基本元素/01-Variable-and-Type.ipynb\n",
    "# Swap two var value, SOL1\n",
    "# 常规做法：引入临时变量 temp\n",
    "x=1\n",
    "y=2\n",
    "temp=x\n",
    "x=y\n",
    "y=temp\n",
    "print(x)"
   ]
  },
  {
   "cell_type": "markdown",
   "metadata": {},
   "source": [
    "### 2.7.4 跟踪表 Informal trance\n",
    "\n",
    "使用跟踪表，有效跟踪与变量相关联的值。 这个跟踪表，我确实是第一次听说。\n",
    "\n",
    "![](https://img.imotao.com/i/2024/02/05/65c0dd593a151.jpeg)\n",
    "\n",
    "在函数中，跟踪表可以用来跟踪函数调用过程中变量的值。"
   ]
  },
  {
   "cell_type": "code",
   "execution_count": 2,
   "metadata": {},
   "outputs": [
    {
     "name": "stdout",
     "output_type": "stream",
     "text": [
      "1234\n",
      "99\n",
      "99\n",
      "1234\n"
     ]
    }
   ],
   "source": [
    "# 交换前\n",
    "a=1234\n",
    "b=99\n",
    "print(a)\n",
    "print(b)\n",
    "# 引入临时变量t\n",
    "t=a\n",
    "a=b\n",
    "b=t\n",
    "# 交换后\n",
    "print(a)\n",
    "print(b)"
   ]
  }
 ],
 "metadata": {
  "kernelspec": {
   "display_name": "Python 3",
   "language": "python",
   "name": "python3"
  },
  "language_info": {
   "codemirror_mode": {
    "name": "ipython",
    "version": 3
   },
   "file_extension": ".py",
   "mimetype": "text/x-python",
   "name": "python",
   "nbconvert_exporter": "python",
   "pygments_lexer": "ipython3",
   "version": "3.11.7"
  }
 },
 "nbformat": 4,
 "nbformat_minor": 2
}
