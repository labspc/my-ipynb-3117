{
 "cells": [
  {
   "cell_type": "markdown",
   "metadata": {},
   "source": [
    "## 2.3 模块化程序设计\n",
    "\n",
    "在学习面向对象程序设计OOP之前，我们需要知道模块化程序设计。\n",
    "\n",
    "鼓励我们 **将程序/计算分解为小的、独立的模块或组件**，每个模块负责完成特定的功能或任务。这些模块可以独立开发、测试和维护，然后组合在一起形成完整的程序。\n",
    "\n",
    "在模块化程序设计中，常见的做法是使用函数、类、库和框架等工具来实现模块化的设计。这种设计方法有助于构建复杂、可靠且易于维护的软件系统。\n",
    "\n",
    "下面，将要介绍，同用户可自定义模块有关的几个概念：\n",
    "- 实现\n",
    "- 客户端\n",
    "- API\n",
    "- 私有函数\n",
    "- 库\n",
    "- 文档"
   ]
  },
  {
   "cell_type": "markdown",
   "metadata": {},
   "source": [
    "## 2.4 实现 Implementation\n",
    "\n",
    "将功能分解为独立的模块或组件，并编写代码来实现这些模块或组件。 简单说，实现就是编写代码，为客户端提供需要的函数，不要包含其他多余的东西。\n",
    "\n",
    "一个模块就是一个实现。\n",
    "\n",
    "## 2.5 客户端 Client\n",
    "\n",
    "使用已实现模块提供的功能的其他代码或程序。\n",
    "\n",
    "实现一个新的模块时，必须清楚模块将要为客户端做什么。\n",
    "\n",
    "## 2.6 应用程序编程接口 API\n",
    "\n",
    "我们都知道，这个东西是“接口”，“隐藏”了一些东西，“暴露”出来一些东西让我们用。\n",
    "\n",
    "这里，书中有一段严谨的论述，在这小做摘记（p170）：\n",
    "\n",
    "1. 我们要知道函数签名 signature 是什么\n",
    "\n",
    "![](https://img.imotao.com/i/2024/02/06/65c24796266b8.jpeg)\n",
    "\n",
    "2. 理解何为 “契约 contract ”/ 规范 \n",
    "\n",
    "![](https://img.imotao.com/i/2024/02/06/65c24835cabda.jpeg)\n",
    "\n",
    "这样就能理解 `API` 为何物了，上图 `cdf` 可以忽略，`pdf` 的使用具体见后文。\n",
    "\n"
   ]
  },
  {
   "cell_type": "markdown",
   "metadata": {},
   "source": [
    "## 2.7 高斯分布 Gaussian distribution\n",
    "\n",
    "https://mathworld.wolfram.com/NormalDistribution.html\n",
    "\n",
    "下面会以 正态分布/高斯分布 为例 讲解模块化编程：\n",
    "\n",
    "![](https://img.imotao.com/i/2024/02/06/65c254ef5a6d4.png)\n"
   ]
  },
  {
   "cell_type": "code",
   "execution_count": null,
   "metadata": {},
   "outputs": [],
   "source": [
    "# gaussian.py\n",
    "\n",
    "import numpy as np\n",
    "import matplotlib.pyplot as plt\n",
    "\n",
    "# 定义均值和标准差\n",
    "mu = 0  # 均值\n",
    "sigma = 1  # 标准差\n",
    "\n",
    "# 生成随机样本\n",
    "data = np.random.normal(mu, sigma, 1000)\n",
    "\n",
    "# 绘制直方图\n",
    "plt.hist(data, bins=30, density=True, alpha=0.5, color='b', label='Histogram')\n",
    "\n",
    "# 添加标题和标签\n",
    "plt.title('Gaussian Distribution')\n",
    "plt.xlabel('Value')\n",
    "plt.ylabel('Frequency')\n",
    "\n",
    "# 显示图形\n",
    "plt.show()\n"
   ]
  },
  {
   "cell_type": "markdown",
   "metadata": {},
   "source": [
    "我个人本机运行结果：\n",
    "\n",
    "![](https://img.imotao.com/i/2024/02/07/65c25c55d830a.png)\n"
   ]
  },
  {
   "cell_type": "code",
   "execution_count": null,
   "metadata": {},
   "outputs": [],
   "source": [
    "# gaussian-pdf.py\n",
    "\n",
    "import numpy as np\n",
    "import matplotlib.pyplot as plt\n",
    "\n",
    "# 定义高斯分布的概率密度函数\n",
    "def gaussian_pdf(x, mu, sigma):\n",
    "    return 1 / (sigma * np.sqrt(2 * np.pi)) * np.exp(-(x - mu)**2 / (2 * sigma**2))\n",
    "\n",
    "# 从用户处获取 mu 和 sigma 值\n",
    "mu = float(input(\"请输入均值（mu）: \"))\n",
    "sigma = float(input(\"请输入标准差（sigma）: \"))\n",
    "\n",
    "# 生成一组 x 值\n",
    "x_values = np.linspace(mu - 4*sigma, mu + 4*sigma, 1000)\n",
    "\n",
    "# 计算对应 x 值的概率密度函数值\n",
    "pdf_values = gaussian_pdf(x_values, mu, sigma)\n",
    "\n",
    "# 绘制概率密度函数图\n",
    "plt.plot(x_values, pdf_values, label='Gaussian PDF')\n",
    "\n",
    "# 添加标题和标签\n",
    "plt.title('Gaussian Probability Density Function')\n",
    "plt.xlabel('x')\n",
    "plt.ylabel('PDF')\n",
    "plt.legend()\n",
    "\n",
    "# 显示图形\n",
    "plt.show()\n"
   ]
  },
  {
   "cell_type": "markdown",
   "metadata": {},
   "source": [
    "我个人本机运行结果：\n",
    "\n",
    "![](https://img.imotao.com/i/2024/02/07/65c269b723d1a.png)\n",
    "\n",
    "上述全部代码可在 `Colab` 上运行，地址：https://colab.research.google.com/drive/1NqG1kfBFVMj8DFF-QaWyA6UIE2m6XP9N?usp=sharing"
   ]
  },
  {
   "cell_type": "markdown",
   "metadata": {},
   "source": [
    "以上都是在学习高斯分布，看看它长什么样子。以下，见高斯分布的概率密度函数PDF，具体示例：\n",
    "\n",
    "这个函数pdf(x, mu=0.0, sigma=1.0)计算的是具有均值 mu 和标准差 sigma 的正态分布（也称为高斯分布）在 x 处的概率密度。概率密度函数（PDF）是描述一个连续随机变量的概率分布的函数。对于正态分布，其PDF的形状是著名的“钟形曲线”。（见上图）\n",
    "\n",
    "如果你有一个随机变量，你认为它服从某个均值为 mu，标准差为 sigma 的正态分布，你可以使用这个函数来计算这个随机变量取某个具体值 x 的概率密度。\n",
    "\n",
    "\n",
    "- x是我们想要计算其概率密度的值，\n",
    "- mu是高斯分布的均值，\n",
    "- sigma是高斯分布的标准差。"
   ]
  },
  {
   "cell_type": "code",
   "execution_count": 2,
   "metadata": {},
   "outputs": [],
   "source": [
    "# python pdf.py 59 60 8\n",
    "# 0.04947971086809369\n",
    "\n",
    "import sys\n",
    "import math\n",
    "\n",
    "def pdf(x, mu=0.0, sigma=1.0):\n",
    "    x = float(x - mu) / sigma\n",
    "    return math.exp(-x*x/2.0) / math.sqrt(2.0*math.pi) / sigma\n",
    "\n",
    "def main():\n",
    "    x = float(sys.argv[1]) # x\n",
    "    mu = float(sys.argv[2]) # mu\n",
    "    sigma = float(sys.argv[3]) # sigma\n",
    "\n",
    "    print(pdf(x, mu, sigma))\n",
    "\n",
    "if __name__ == '__main__':\n",
    "    main() # 直接被执行，调用 main() 函数；由其他文件导入时，调用 __main__ 模块\n"
   ]
  },
  {
   "cell_type": "markdown",
   "metadata": {},
   "source": [
    "`if __name__ == '__main__':` 解释：\n",
    "\n",
    "在Python中，if __name__ == '__main__': 是一个常见的模式。这个模式的目的是使Python模块（也就是.py文件）既可以被导入到其他模块中使用，也可以作为一个独立的程序运行。\n",
    "\n",
    "后文以 `pdf.py`    为例，讲解后续知识点。"
   ]
  },
  {
   "cell_type": "markdown",
   "metadata": {},
   "source": [
    "## 2.8 私有函数 Private\n",
    "\n"
   ]
  }
 ],
 "metadata": {
  "kernelspec": {
   "display_name": "Python 3",
   "language": "python",
   "name": "python3"
  },
  "language_info": {
   "codemirror_mode": {
    "name": "ipython",
    "version": 3
   },
   "file_extension": ".py",
   "mimetype": "text/x-python",
   "name": "python",
   "nbconvert_exporter": "python",
   "pygments_lexer": "ipython3",
   "version": "3.11.7"
  }
 },
 "nbformat": 4,
 "nbformat_minor": 2
}
