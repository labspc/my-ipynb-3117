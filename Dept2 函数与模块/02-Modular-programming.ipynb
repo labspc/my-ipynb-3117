{
 "cells": [
  {
   "cell_type": "markdown",
   "metadata": {},
   "source": [
    "## 2.3 模块化程序设计\n",
    "\n",
    "在学习面向对象程序设计OOP之前，我们需要知道模块化程序设计。\n",
    "\n"
   ]
  }
 ],
 "metadata": {
  "kernelspec": {
   "display_name": "Python 3",
   "language": "python",
   "name": "python3"
  },
  "language_info": {
   "name": "python",
   "version": "3.11.7"
  }
 },
 "nbformat": 4,
 "nbformat_minor": 2
}
