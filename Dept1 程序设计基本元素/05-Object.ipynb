{
 "cells": [
  {
   "cell_type": "markdown",
   "metadata": {},
   "source": [
    "## 5.1 对象 Object\n",
    "\n",
    "在Python程序中，所有的数据都表示为对象及对象之间的关系。Python对象是特定数据类型的值在内存中的表现方式。每个对象由其标志identity（看成是对象在内存中的位置/内存地址）、类型type（可表示的范围和允许的操作）、值value（对象数据类型的值） 三者标识。\n",
    "\n",
    "\n",
    "## 5.2 对象引用 Object reference\n",
    "\n",
    "对象引用是对象 标志identity 的具体表示，即 **存储对象的内存地址**。Python程序使用对象引用访问对象的值，也可直接操作对象引用本身。 \n",
    "\n",
    "这里，我们回忆C语言，我们提到地址是什么时候？ **指针，指针即地址。还有什么，取址（&，编号）和寻址（*，内容）。**\n"
   ]
  }
 ],
 "metadata": {
  "language_info": {
   "name": "python"
  }
 },
 "nbformat": 4,
 "nbformat_minor": 2
}
