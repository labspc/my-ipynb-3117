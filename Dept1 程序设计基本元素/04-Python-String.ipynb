{
 "cells": [
  {
   "cell_type": "markdown",
   "metadata": {},
   "source": [
    "## 4.1 字符串 String\n",
    "\n",
    "从很早之前的数值运算，到现在我们需要处理大量的以文本形式存在的信息。那如何做呢？就需要使用到字符串。\n",
    "\n",
    "本节讲解字符串，主要讲两个：一是什么是格式说明符，二是字符串的常见操作。"
   ]
  },
  {
   "cell_type": "markdown",
   "metadata": {},
   "source": [
    "### 4.1.1 格式说明符\n",
    "\n",
    "输入输出就不再讲，主要说说格式说明符。\n",
    "https://labspc.gitbook.io/cnippets/chap1.-dao-yan/1.5-zi-fu-shu-ru-shu-chu\n",
    "\n",
    "有一个idiom是：格式化说明符通常与字符串的 format() 方法一起使用，或者在旧式字符串格式化中使用 % 运算符。"
   ]
  },
  {
   "cell_type": "code",
   "execution_count": 2,
   "metadata": {},
   "outputs": [
    {
     "name": "stdout",
     "output_type": "stream",
     "text": [
      "Name: John, Age: 30\n"
     ]
    }
   ],
   "source": [
    "name = \"John\"\n",
    "age = 30\n",
    "print(\"Name: {}, Age: {}\".format(name, age))"
   ]
  },
  {
   "cell_type": "markdown",
   "metadata": {},
   "source": [
    "### 4.1.2 字符串的常见操作\n",
    "\n",
    "- 拼接\n",
    "- 切片：从字符串中获取子字符串，其返回为一个新的字符串。 `substring = string[start:end:step]\n",
    "` \n",
    "\n",
    "- 查找\n",
    "- 替换\n",
    "- 分割\n",
    "- 求长：这里的字符指的是字母、数字、标点符号等。空格也被视为一个字符。"
   ]
  },
  {
   "cell_type": "code",
   "execution_count": 3,
   "metadata": {},
   "outputs": [
    {
     "name": "stdout",
     "output_type": "stream",
     "text": [
      "Hello World\n"
     ]
    }
   ],
   "source": [
    "# 拼接\n",
    "str1 = \"Hello\"\n",
    "str2 = \"World\"\n",
    "result = str1 + \" \" + str2\n",
    "print(result)  # 输出：Hello World\n"
   ]
  },
  {
   "cell_type": "code",
   "execution_count": 4,
   "metadata": {},
   "outputs": [
    {
     "name": "stdout",
     "output_type": "stream",
     "text": [
      "Python\n"
     ]
    }
   ],
   "source": [
    "# 切片\n",
    "# 切片操作会返回一个新的字符串，包含原始字符串中从 start 索引到 end - 1 索引的部分。\n",
    "\n",
    "text = \"Python Programming\"\n",
    "substring = text[0:6]  # 从索引0开始到索引6（不包括6）\n",
    "print(substring)  # 输出：Python\n"
   ]
  },
  {
   "cell_type": "code",
   "execution_count": 5,
   "metadata": {},
   "outputs": [
    {
     "name": "stdout",
     "output_type": "stream",
     "text": [
      "7\n"
     ]
    }
   ],
   "source": [
    "# 查找\n",
    "text = \"Python Programming\"\n",
    "index = text.find(\"Pro\")\n",
    "print(index)  # 输出：7\n"
   ]
  },
  {
   "cell_type": "code",
   "execution_count": 6,
   "metadata": {},
   "outputs": [
    {
     "name": "stdout",
     "output_type": "stream",
     "text": [
      "Java Programming\n"
     ]
    }
   ],
   "source": [
    "# 替换\n",
    "text = \"Python Programming\"\n",
    "new_text = text.replace(\"Python\", \"Java\")\n",
    "print(new_text)  # 输出：Java Programming\n"
   ]
  },
  {
   "cell_type": "code",
   "execution_count": 7,
   "metadata": {},
   "outputs": [
    {
     "name": "stdout",
     "output_type": "stream",
     "text": [
      "['apple', 'banana', 'orange']\n"
     ]
    }
   ],
   "source": [
    "# 分割\n",
    "text = \"apple,banana,orange\"\n",
    "fruits = text.split(\",\")\n",
    "print(fruits)  # 输出：['apple', 'banana', 'orange']\n"
   ]
  },
  {
   "cell_type": "code",
   "execution_count": 8,
   "metadata": {},
   "outputs": [
    {
     "name": "stdout",
     "output_type": "stream",
     "text": [
      "18\n"
     ]
    }
   ],
   "source": [
    "# 求长\n",
    "text = \"Python Programming\"\n",
    "length = len(text) # 内置函数 len()\n",
    "print(length)  # 输出：18\n"
   ]
  }
 ],
 "metadata": {
  "kernelspec": {
   "display_name": "Python 3",
   "language": "python",
   "name": "python3"
  },
  "language_info": {
   "codemirror_mode": {
    "name": "ipython",
    "version": 3
   },
   "file_extension": ".py",
   "mimetype": "text/x-python",
   "name": "python",
   "nbconvert_exporter": "python",
   "pygments_lexer": "ipython3",
   "version": "3.11.7"
  }
 },
 "nbformat": 4,
 "nbformat_minor": 2
}
