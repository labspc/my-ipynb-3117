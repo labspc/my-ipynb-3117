{
 "cells": [
  {
   "cell_type": "markdown",
   "metadata": {},
   "source": [
    "## 3.1 selection statement 分支\n",
    "\n",
    "Python中没有用花括号来构造代码块而是使用了缩进的方式来表示代码的层次结构"
   ]
  },
  {
   "cell_type": "code",
   "execution_count": 1,
   "metadata": {},
   "outputs": [
    {
     "name": "stdout",
     "output_type": "stream",
     "text": [
      "身份验证失败!\n"
     ]
    }
   ],
   "source": [
    "\"\"\"\n",
    "https://github.com/jackfrued/Python-100-Days/blob/master/Day01-15/03.%E5%88%86%E6%94%AF%E7%BB%93%E6%9E%84.md\n",
    "用户身份验证\n",
    "\n",
    "Version: 0.1\n",
    "Author: 骆昊\n",
    "\"\"\"\n",
    "username = input('请输入用户名: ')\n",
    "password = input('请输入口令: ')\n",
    "# 用户名是admin且密码是123456则身份验证成功否则身份验证失败\n",
    "if username == 'admin' and password == '123456':\n",
    "    print('身份验证成功!')\n",
    "else:\n",
    "    print('身份验证失败!')"
   ]
  },
  {
   "cell_type": "markdown",
   "metadata": {},
   "source": [
    "if...else 还有多条分支的写法：if...elif...else\n",
    "if...elif...else 的写法，可以看作是 if...else 的嵌套，如果前面的条件不满足，就进入下一个条件判断。\n",
    "一个是给定有变量值，一个是需要输入变量值，两个例子："
   ]
  },
  {
   "cell_type": "code",
   "execution_count": 2,
   "metadata": {},
   "outputs": [
    {
     "name": "stdout",
     "output_type": "stream",
     "text": [
      "你是成年人\n"
     ]
    }
   ],
   "source": [
    "# example 1\n",
    "age = 20\n",
    "\n",
    "if age < 13:\n",
    "    print(\"你是儿童\")\n",
    "elif age < 18:\n",
    "    print(\"你是青少年\")\n",
    "else:\n",
    "    print(\"你是成年人\")"
   ]
  },
  {
   "cell_type": "code",
   "execution_count": 3,
   "metadata": {},
   "outputs": [
    {
     "name": "stdout",
     "output_type": "stream",
     "text": [
      "f(2.00) = 1.00\n"
     ]
    }
   ],
   "source": [
    "# example 2\n",
    "\"\"\"\n",
    "分段函数求值\n",
    "\n",
    "        3x - 5  (x > 1)\n",
    "f(x) =  x + 2   (-1 <= x <= 1)\n",
    "        5x + 3  (x < -1)\n",
    "\n",
    "Version: 0.1\n",
    "Author: 骆昊\n",
    "\"\"\"\n",
    "\n",
    "x = float(input('x = '))\n",
    "if x > 1:\n",
    "    y = 3 * x - 5\n",
    "elif x >= -1:\n",
    "    y = x + 2\n",
    "else:\n",
    "    y = 5 * x + 3\n",
    "print('f(%.2f) = %.2f' % (x, y))"
   ]
  },
  {
   "cell_type": "markdown",
   "metadata": {},
   "source": [
    "## 3.2 loop statement 循环\n",
    "我们知道在C语言里，学过两种循环，一个是for，一个是while。\n",
    "https://labspc.gitbook.io/cnippets/chap3.-kong-zhi-liu/3.5-while-xun-huan-yu-ju-yu-for-yu-ju\n",
    "\n",
    "Python for循环写法：\n",
    "for 变量 in 可迭代对象:\n",
    "    # 在此处执行循环体操作\n",
    "\n",
    "下面的例子会把，之前的用C写的温度转换程序，改写为Python代码：\n",
    "\n",
    "跑完下面的代码，你会不由得感叹，卧槽Python的 for 写法真的好简单。"
   ]
  },
  {
   "cell_type": "code",
   "execution_count": null,
   "metadata": {},
   "outputs": [],
   "source": [
    "\"\"\"\n",
    "\n",
    "#include <stdio.h>\n",
    "int main()\n",
    "{\n",
    "    int fahr, cel;\n",
    "    int lower, upper, step;\n",
    "    lower = 0;   // 最低温度\n",
    "    upper = 300; // 最高温度\n",
    "    step = 20;   // 步长\n",
    "\n",
    "    for (fahr = lower; fahr <= upper; fahr = fahr + step)\n",
    "    {\n",
    "        cel = 5 * (fahr - 32) / 9;\n",
    "        printf(\"%d\\t%d\\n\", fahr, cel);\n",
    "    }\n",
    "\n",
    "    return 0;\n",
    "}\n",
    "\n",
    "\"\"\""
   ]
  },
  {
   "cell_type": "code",
   "execution_count": 1,
   "metadata": {},
   "outputs": [
    {
     "name": "stdout",
     "output_type": "stream",
     "text": [
      "华氏温度 0 对应的摄氏温度为 -17\n",
      "华氏温度 20 对应的摄氏温度为 -6\n",
      "华氏温度 40 对应的摄氏温度为 4\n",
      "华氏温度 60 对应的摄氏温度为 15\n",
      "华氏温度 80 对应的摄氏温度为 26\n",
      "华氏温度 100 对应的摄氏温度为 37\n",
      "华氏温度 120 对应的摄氏温度为 48\n",
      "华氏温度 140 对应的摄氏温度为 60\n",
      "华氏温度 160 对应的摄氏温度为 71\n",
      "华氏温度 180 对应的摄氏温度为 82\n",
      "华氏温度 200 对应的摄氏温度为 93\n",
      "华氏温度 220 对应的摄氏温度为 104\n",
      "华氏温度 240 对应的摄氏温度为 115\n",
      "华氏温度 260 对应的摄氏温度为 126\n",
      "华氏温度 280 对应的摄氏温度为 137\n",
      "华氏温度 300 对应的摄氏温度为 148\n"
     ]
    }
   ],
   "source": [
    "lower = int(input(\"请输入最低温度：\"))   # 最低温度\n",
    "upper = int(input(\"请输入最高温度：\"))   # 最高温度\n",
    "step = int(input(\"请输入步长：\"))       # 步长\n",
    "\n",
    "for fahr in range(lower, upper + 1, step):\n",
    "    cel = 5 * (fahr - 32) / 9\n",
    "    print(f\"华氏温度 {fahr} 对应的摄氏温度为 {int(cel)}\")"
   ]
  },
  {
   "cell_type": "code",
   "execution_count": 2,
   "metadata": {},
   "outputs": [
    {
     "name": "stdout",
     "output_type": "stream",
     "text": [
      "1\n",
      "2\n",
      "3\n",
      "4\n",
      "5\n"
     ]
    }
   ],
   "source": [
    "# for 循环遍历列表的例子\n",
    "my_list = [1, 2, 3, 4, 5]\n",
    "for num in my_list:\n",
    "    print(num)"
   ]
  },
  {
   "cell_type": "markdown",
   "metadata": {},
   "source": [
    "## 3.3 语法构造的选择问题\n",
    "\n",
    "摘自《程序设计导论，Python语言实践》p45\n",
    "\n",
    "选择不同的语法构造，实现相同的计算功能，取决于程序员的偏好，就像作家创作时在各个同义词中选择，或在主动语态和被动语态之间选择一样。写文章没有固定规则，编写程序也是一样。\n",
    "\n",
    "**编程的目标是选择适合于自己，又能实现程序功能，同时还能被他人理解和欣赏的风格。**\n"
   ]
  }
 ],
 "metadata": {
  "kernelspec": {
   "display_name": "Python 3",
   "language": "python",
   "name": "python3"
  },
  "language_info": {
   "codemirror_mode": {
    "name": "ipython",
    "version": 3
   },
   "file_extension": ".py",
   "mimetype": "text/x-python",
   "name": "python",
   "nbconvert_exporter": "python",
   "pygments_lexer": "ipython3",
   "version": "3.11.7"
  }
 },
 "nbformat": 4,
 "nbformat_minor": 2
}
