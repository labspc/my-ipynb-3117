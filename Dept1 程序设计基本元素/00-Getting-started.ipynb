{
 "cells": [
  {
   "cell_type": "markdown",
   "metadata": {},
   "source": [
    "## 0.1 Python学习资源\n",
    "\n",
    "https://pythonbasics.org/getting-started/\n",
    "https://thepythonguru.com/installing-python3/\n",
    "https://github.com/jackfrued/Python-Core-50-Courses/blob/master/%E7%AC%AC01%E8%AF%BE%EF%BC%9A%E5%88%9D%E8%AF%86Python.md\n",
    "https://docs.python.org/zh-cn/3.11/tutorial/interpreter.html\n",
    "\n",
    "根本不需要去看视频刷课，看各种花里胡哨的书，上面的 GitHub仓库资料很全，还有官方的教程，采用一边阅读一边在 VSCode里面测试的学习方式，笔记和代码都在 VSCode里面完成。\n",
    "\n",
    "\n",
    "Python interpreter 解释器\n",
    "Run 的话：python file.py\n",
    "\n",
    "吉多·范罗苏姆（Guido von Rossum） Python之父\n",
    "\n",
    "如果对Python的历史感兴趣，可以阅读名为《Python简史》的网络文章。\n",
    "http://www.cnblogs.com/vamei/archive/2013/02/06/2892628.html\n",
    "\n",
    "**另外**：部分代码跑起来太费时间，就在 Colab 跑了\n"
   ]
  },
  {
   "cell_type": "code",
   "execution_count": 8,
   "metadata": {},
   "outputs": [
    {
     "data": {
      "text/plain": [
       "5"
      ]
     },
     "execution_count": 8,
     "metadata": {},
     "output_type": "execute_result"
    }
   ],
   "source": [
    "2+3"
   ]
  },
  {
   "cell_type": "markdown",
   "metadata": {},
   "source": [
    "## 0.2 Hello World \n",
    "\n",
    "多行注释不学，单行注释 # "
   ]
  },
  {
   "cell_type": "code",
   "execution_count": 9,
   "metadata": {},
   "outputs": [
    {
     "name": "stdout",
     "output_type": "stream",
     "text": [
      "你好，世界！\n"
     ]
    }
   ],
   "source": [
    "# print('hello, world')\n",
    "print(\"你好，世界！\")"
   ]
  },
  {
   "cell_type": "code",
   "execution_count": null,
   "metadata": {},
   "outputs": [],
   "source": []
  },
  {
   "cell_type": "markdown",
   "metadata": {},
   "source": [
    "## 0.3 Python程序鸟瞰图\n",
    "\n",
    "摘自《《程序设计导论，Python语言实践》》p5\n",
    "\n",
    "![](https://img.imotao.com/i/2024/02/05/65c0b3160e425.jpeg)\n",
    "\n",
    "\n",
    "两段程序的需要在 Terminal 里面单独编译，具体输出如下：\n",
    "\n",
    "![](https://img.imotao.com/i/2024/02/05/65c0b137cda74.png)\n",
    "\n",
    "`sys.argv[1]` 参数对应 `Lambert` ，需要在命令行直接赋值。"
   ]
  },
  {
   "cell_type": "code",
   "execution_count": null,
   "metadata": {},
   "outputs": [],
   "source": [
    "# 版权信息：2024年2月5日，作者：Lambert。\n",
    "import sys\n",
    "\n",
    "# 检查是否提供了命令行参数\n",
    "if len(sys.argv) > 1:\n",
    "    name = sys.argv[1]\n",
    "else:\n",
    "    print(\"请提供一个名字作为命令行参数。\")\n",
    "    sys.exit(1)  # 退出程序，返回错误代码 1\n",
    "\n",
    "# 打印出包含名字的消息\n",
    "print(f\"Hi, {name}. How are you?\")"
   ]
  },
  {
   "cell_type": "code",
   "execution_count": null,
   "metadata": {},
   "outputs": [],
   "source": [
    "#-----------------------------------------------------------------------\n",
    "# useargument.py\n",
    "#-----------------------------------------------------------------------\n",
    "import sys\n",
    "import stdio # https://introcs.cs.princeton.edu/python/code/stdio.py\n",
    "\n",
    "# Accept a name as a command-line argument. Write a message containing\n",
    "# that name to standard output.\n",
    "\n",
    "stdio.write('Hi, ')\n",
    "stdio.write(sys.argv[1])\n",
    "stdio.writeln('. How are you?')\n",
    "\n",
    "#-----------------------------------------------------------------------\n",
    "\n",
    "# python useargument.py Alice\n",
    "# Hi, Alice. How are you?\n",
    "\n",
    "# python useargument.py Bob\n",
    "# Hi, Bob. How are you?\n",
    "\n",
    "# python useargument.py Carol\n",
    "# Hi, Carol. How are you?\n",
    "\n",
    "\n",
    "# Copyright © 2000–2015, Robert Sedgewick, Kevin Wayne, and Robert Dondero.\n",
    "# Last updated: Fri Oct 20 20:45:16 EDT 2017.\n",
    "# https://introcs.cs.princeton.edu/python/11hello/useargument.py.html"
   ]
  }
 ],
 "metadata": {
  "kernelspec": {
   "display_name": "Python 3",
   "language": "python",
   "name": "python3"
  },
  "language_info": {
   "codemirror_mode": {
    "name": "ipython",
    "version": 3
   },
   "file_extension": ".py",
   "mimetype": "text/x-python",
   "name": "python",
   "nbconvert_exporter": "python",
   "pygments_lexer": "ipython3",
   "version": "3.11.7"
  }
 },
 "nbformat": 4,
 "nbformat_minor": 2
}
