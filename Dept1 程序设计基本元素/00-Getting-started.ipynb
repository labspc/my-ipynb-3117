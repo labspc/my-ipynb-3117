{
 "cells": [
  {
   "cell_type": "markdown",
   "metadata": {},
   "source": [
    "## 0.1 Python学习资源\n",
    "\n",
    "https://pythonbasics.org/getting-started/\n",
    "https://thepythonguru.com/installing-python3/\n",
    "https://github.com/jackfrued/Python-Core-50-Courses/blob/master/%E7%AC%AC01%E8%AF%BE%EF%BC%9A%E5%88%9D%E8%AF%86Python.md\n",
    "https://docs.python.org/zh-cn/3.11/tutorial/interpreter.html\n",
    "\n",
    "根本不需要去看视频刷课，看各种花里胡哨的书，上面的 GitHub仓库资料很全，还有官方的教程，采用一边阅读一边在 VSCode里面测试的学习方式，笔记和代码都在 VSCode里面完成。\n",
    "\n",
    "\n",
    "Python interpreter 解释器\n",
    "Run 的话：python file.py\n",
    "\n",
    "吉多·范罗苏姆（Guido von Rossum） Python之父\n",
    "\n",
    "如果对Python的历史感兴趣，可以阅读名为《Python简史》的网络文章。\n",
    "http://www.cnblogs.com/vamei/archive/2013/02/06/2892628.html\n",
    "\n",
    "**另外**：部分代码跑起来太费时间，就在 Colab 跑了\n"
   ]
  },
  {
   "cell_type": "code",
   "execution_count": 1,
   "metadata": {},
   "outputs": [
    {
     "data": {
      "text/plain": [
       "5"
      ]
     },
     "execution_count": 1,
     "metadata": {},
     "output_type": "execute_result"
    }
   ],
   "source": [
    "2+3"
   ]
  },
  {
   "cell_type": "markdown",
   "metadata": {},
   "source": [
    "## 0.2 Hello World \n",
    "\n",
    "多行注释不学，单行注释 # "
   ]
  },
  {
   "cell_type": "code",
   "execution_count": 2,
   "metadata": {},
   "outputs": [
    {
     "name": "stdout",
     "output_type": "stream",
     "text": [
      "你好，世界！\n"
     ]
    }
   ],
   "source": [
    "# print('hello, world')\n",
    "print(\"你好，世界！\")"
   ]
  }
 ],
 "metadata": {
  "kernelspec": {
   "display_name": "Python 3",
   "language": "python",
   "name": "python3"
  },
  "language_info": {
   "codemirror_mode": {
    "name": "ipython",
    "version": 3
   },
   "file_extension": ".py",
   "mimetype": "text/x-python",
   "name": "python",
   "nbconvert_exporter": "python",
   "pygments_lexer": "ipython3",
   "version": "3.11.7"
  }
 },
 "nbformat": 4,
 "nbformat_minor": 2
}
