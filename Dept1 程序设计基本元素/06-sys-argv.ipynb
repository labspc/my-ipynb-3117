{
 "cells": [
  {
   "cell_type": "markdown",
   "metadata": {},
   "source": [
    "## 6.1 命令行输入 argv[*]\n",
    "\n",
    "测试输出：\n",
    "\n",
    "python average.py\n",
    "\n",
    "10.0 5.0 6.0 3.0 7.0 32.0\n",
    "\n",
    "Average is 10.5\n",
    "\n",
    "---\n",
    "\n",
    "**提示**：仅为源码请勿在 Jupyter Notebook 里 Run\n",
    "\n",
    "下方源码已加注释，方便学习。"
   ]
  },
  {
   "cell_type": "code",
   "execution_count": null,
   "metadata": {},
   "outputs": [],
   "source": [
    "\n",
    "#-----------------------------------------------------------------------\n",
    "# average.py\n",
    "# https://introcs.cs.princeton.edu/python/15inout/average.py.html\n",
    "#-----------------------------------------------------------------------\n",
    "\n",
    "import stdio\n",
    "\n",
    "# Read floats from the standard input stream until end-of-file.\n",
    "# Write to standard output the average of those floats.\n",
    "\n",
    "total = 0.0 # Sum of values\n",
    "count = 0 # Number of values\n",
    "\n",
    "while not stdio.isEmpty(): \n",
    "    value = stdio.readFloat()\n",
    "    total += value\n",
    "    count += 1\n",
    "avg = total / count\n",
    "stdio.writeln('Average is ' + str(avg)) # 显式类型转换后做一个字符串拼接\n",
    "\n",
    "#-----------------------------------------------------------------------\n"
   ]
  },
  {
   "cell_type": "code",
   "execution_count": 2,
   "metadata": {},
   "outputs": [
    {
     "name": "stdout",
     "output_type": "stream",
     "text": [
      "Looping...\n",
      "Looping...\n",
      "Looping...\n",
      "Looping...\n",
      "Looping...\n"
     ]
    }
   ],
   "source": [
    "x = 0\n",
    "while not x >= 5: # 直到 x 的值不再小于 5，即 x >= 5 时，循环结束\n",
    "    print(\"Looping...\")\n",
    "    x += 1"
   ]
  },
  {
   "cell_type": "markdown",
   "metadata": {},
   "source": [
    "## 6.2 管道 | \n",
    "\n",
    "管道，piping：实现标准输入和标准输出抽象的最灵活的方式是什么？ 即，指定一个程序的输出为另一个程序的输入。\n",
    "\n",
    "![](https://img.imotao.com/i/2024/02/06/65c1e137a7499.png)\n",
    "\n",
    "在上图第一个单元格里，我们使 `randomseq.py` 的输出作为 `average.py` 的输入。注意，第一次未使用管道（`|`）时，只是在测试 `randomseq` 的输出。\n",
    "\n",
    "其中，`random.random()` 是 Python 的内置函数，用于生成一个随机浮点数。这个浮点数在 0.0 到 1.0 的范围内（包括 0.0，但不包括 1.0），每次调用它都会返回一个新的随机浮点数。"
   ]
  },
  {
   "cell_type": "code",
   "execution_count": null,
   "metadata": {},
   "outputs": [],
   "source": [
    "#-----------------------------------------------------------------------\n",
    "# https://introcs.cs.princeton.edu/python/15inout/randomseq.py.html\n",
    "# randomseq.py\n",
    "#-----------------------------------------------------------------------\n",
    "\n",
    "import stdio\n",
    "import sys\n",
    "import random\n",
    "\n",
    "# Accept integer command-line argument n. Write to standard output\n",
    "# a random sequence of n floats in the range [0, 1).\n",
    "\n",
    "n = int(sys.argv[1]) # 从命令行获取参数\n",
    "for i in range(n):\n",
    "    stdio.writeln(random.random())"
   ]
  },
  {
   "cell_type": "code",
   "execution_count": 3,
   "metadata": {},
   "outputs": [
    {
     "name": "stdout",
     "output_type": "stream",
     "text": [
      "0.9958367531760234\n",
      "0.7306532738899292\n"
     ]
    }
   ],
   "source": [
    "# random.random()\n",
    "import random\n",
    "\n",
    "print(random.random())  \n",
    "print(random.random())  "
   ]
  },
  {
   "cell_type": "code",
   "execution_count": 4,
   "metadata": {},
   "outputs": [
    {
     "name": "stdout",
     "output_type": "stream",
     "text": [
      "0.4249395106370103\n",
      "0.20813818788970073\n"
     ]
    }
   ],
   "source": [
    "# random.random()\n",
    "import random\n",
    "\n",
    "print(random.random())  \n",
    "print(random.random()) "
   ]
  }
 ],
 "metadata": {
  "kernelspec": {
   "display_name": "Python 3",
   "language": "python",
   "name": "python3"
  },
  "language_info": {
   "codemirror_mode": {
    "name": "ipython",
    "version": 3
   },
   "file_extension": ".py",
   "mimetype": "text/x-python",
   "name": "python",
   "nbconvert_exporter": "python",
   "pygments_lexer": "ipython3",
   "version": "3.11.7"
  }
 },
 "nbformat": 4,
 "nbformat_minor": 2
}
