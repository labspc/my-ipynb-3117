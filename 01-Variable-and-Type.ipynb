{
 "cells": [
  {
   "cell_type": "markdown",
   "metadata": {},
   "source": [
    "在编程语言中，变量是数据的载体，简单的说就是一块用来保存数据的内存空间，变量的值可以被读取和修改，这是所有计算和控制的基础。计算机能处理的数据有很多种类型，最常见的就是数值，除了数值之外还有文本、图形、音频、视频等各种各样的数据。\n",
    "https://github.com/jackfrued/Python-Core-50-Courses/blob/master/%E7%AC%AC03%E8%AF%BE%EF%BC%9APython%E8%AF%AD%E8%A8%80%E5%85%83%E7%B4%A0%E4%B9%8B%E5%8F%98%E9%87%8F.md\n",
    "\n",
    "内置类型：\n",
    "整型 int\n",
    "浮点 float\n",
    "字符串 str\n",
    "布尔 bool"
   ]
  },
  {
   "cell_type": "code",
   "execution_count": 1,
   "metadata": {},
   "outputs": [
    {
     "name": "stdout",
     "output_type": "stream",
     "text": [
      "<class 'int'>\n",
      "<class 'float'>\n",
      "<class 'str'>\n",
      "<class 'bool'>\n"
     ]
    }
   ],
   "source": [
    "a = 100\n",
    "b = 12.345\n",
    "c = 'hello, world'\n",
    "d = True\n",
    "print(type(a))    \n",
    "print(type(b))    \n",
    "print(type(c))    \n",
    "print(type(d))   "
   ]
  },
  {
   "cell_type": "markdown",
   "metadata": {},
   "source": [
    "上述就能看到，和C语言不同的是，Python的变量不需要指明类型，Python会根据赋值语句右边的值来自动判断变量类型（后半句由Copilot自动补全）。\n",
    "\n",
    "下面还会看到使用内置函数进行类型转换，这里想想C语言要定义一个变量，要用变量你要指明类型吧，Python就很简单这里。类型转换的话，\n",
    "int()：将一个数值或字符串转换成整数，可以指定进制。\n",
    "float()：将一个字符串转换成浮点数。\n",
    "str()：将指定的对象转换成字符串形式，可以指定编码。\n",
    "chr()：将整数转换成该编码对应的字符串（一个字符）。\n",
    "ord()：将字符串（一个字符）转换成对应的编码（整数）。"
   ]
  },
  {
   "cell_type": "code",
   "execution_count": 3,
   "metadata": {},
   "outputs": [
    {
     "name": "stdout",
     "output_type": "stream",
     "text": [
      "100.0\n",
      "12.345\n",
      "True\n",
      "1\n",
      "a\n",
      "97\n"
     ]
    }
   ],
   "source": [
    "a = 100\n",
    "b = 12.345\n",
    "c = 'hello, world'\n",
    "d = True\n",
    "# 整数转成浮点数\n",
    "print(float(a))    \n",
    "# 浮点型转成字符串 \n",
    "print(str(b))      \n",
    "# 字符串转成布尔型 (有内容的字符串都会变成True)\n",
    "print(bool(c))     \n",
    "# 布尔型转成整数 (True会转成1，False会转成0)\n",
    "print(int(d))      \n",
    "# 将整数变成对应的字符 (97刚好对应字符表中的字母a)\n",
    "print(chr(97))     \n",
    "# 将字符转成整数 (Python中字符和字符串表示法相同)\n",
    "print(ord('a'))    "
   ]
  },
  {
   "cell_type": "markdown",
   "metadata": {},
   "source": [
    "| 运算符                                                       | 描述                           |\n",
    "| ------------------------------------------------------------ | ------------------------------ |\n",
    "| `[]` `[:]`                                                   | 下标，切片                     |\n",
    "| `**`                                                         | 指数                           |\n",
    "| `~` `+` `-`                                                  | 按位取反, 正负号               |\n",
    "| `*` `/` `%` `//`                                             | 乘，除，模，整除               |\n",
    "| `+` `-`                                                      | 加，减                         |\n",
    "| `>>` `<<`                                                    | 右移，左移                     |\n",
    "| `&`                                                          | 按位与                         |\n",
    "| `^` `\\|`                                                      | 按位异或，按位或               |\n",
    "| `<=` `<` `>` `>=`                                            | 小于等于，小于，大于，大于等于 |\n",
    "| `==` `!=`                                                    | 等于，不等于                   |\n",
    "| `is`  `is not`                                               | 身份运算符                     |\n",
    "| `in` `not in`                                                | 成员运算符                     |\n",
    "| `not` `or` `and`                                             | 逻辑运算符                     |\n",
    "| `=` `+=` `-=` `*=` `/=` `%=` `//=` `**=` `&=` `\\|=` `^=` `>>=` `<<=` | （复合）赋值运算符             |\n",
    "\n",
    "\n",
    "回忆C语言运算符，通过对比学习，看看Python多了哪些东西，哪些东西没有。`**` 求幂运算符，在C语言里没见过。\n",
    "\n",
    "下面看赋值和复合赋值运算："
   ]
  },
  {
   "cell_type": "code",
   "execution_count": 4,
   "metadata": {},
   "outputs": [
    {
     "name": "stdout",
     "output_type": "stream",
     "text": [
      "195\n"
     ]
    }
   ],
   "source": [
    "a = 10\n",
    "b = 3\n",
    "a += b        # 相当于：a = a + b，a=13\n",
    "a *= a + 2    # 相当于：a = a * (a + 2)，a=13*15，这里的 a+2看成是b就行\n",
    "print(a)      "
   ]
  },
  {
   "cell_type": "markdown",
   "metadata": {},
   "source": [
    "我们在学习C语言的时候，见过一个例子，有关摄氏度转换的例子，这个例子在《krc-2e》这本书里有介绍，\n",
    "https://labspc.gitbook.io/cnippets/chap1.-dao-yan/1.3-for-yu-ju\n",
    "\n",
    "下面看Python的解法：\n"
   ]
  },
  {
   "cell_type": "code",
   "execution_count": 1,
   "metadata": {},
   "outputs": [
    {
     "name": "stdout",
     "output_type": "stream",
     "text": [
      "99.5华氏度 = 37.5摄氏度\n"
     ]
    }
   ],
   "source": [
    "f = float(input('请输入华氏温度: '))\n",
    "c = (f - 32) / 1.8\n",
    "print('%.1f华氏度 = %.1f摄氏度' % (f, c))\n"
   ]
  },
  {
   "cell_type": "code",
   "execution_count": 1,
   "metadata": {},
   "outputs": [
    {
     "name": "stdout",
     "output_type": "stream",
     "text": [
      "99.5\n"
     ]
    }
   ],
   "source": [
    "\n",
    "# 1.摄氏度转换\n",
    "celsius = 37.5\n",
    "fahrenheit = (9.0/5.0) * celsius + 32\n",
    "print('%.1f' % fahrenheit)\n",
    "\n",
    "# 上面的代码，首先定义了一个变量celsius，然后计算fahrenheit的值，最后输出fahrenheit的值。\n",
    "# 上面的代码中，celsius和fahrenheit都是浮点数，因为9.0/5.0的结果是浮点数。"
   ]
  }
 ],
 "metadata": {
  "kernelspec": {
   "display_name": "Python 3",
   "language": "python",
   "name": "python3"
  },
  "language_info": {
   "codemirror_mode": {
    "name": "ipython",
    "version": 3
   },
   "file_extension": ".py",
   "mimetype": "text/x-python",
   "name": "python",
   "nbconvert_exporter": "python",
   "pygments_lexer": "ipython3",
   "version": "3.11.7"
  }
 },
 "nbformat": 4,
 "nbformat_minor": 2
}
